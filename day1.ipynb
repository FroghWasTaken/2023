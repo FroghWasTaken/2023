{
 "cells": [
  {
   "cell_type": "markdown",
   "metadata": {},
   "source": [
    "The newly-improved calibration document consists of lines of text; each line originally contained a specific calibration value that the Elves now need to recover. On each line, the calibration value can be found by combining the first digit and the last digit (in that order) to form a single two-digit number.\n",
    "\n",
    " **For example:**\n",
    "\n",
    "1abc2\n",
    "pqr3stu8vwx\n",
    "a1b2c3d4e5f\n",
    "treb7uchet\n",
    "In this example, the calibration values of these four lines are 12, 38, 15, and 77. Adding these together produces 142.\n",
    "\n"
   ]
  },
  {
   "cell_type": "code",
   "execution_count": 3,
   "metadata": {},
   "outputs": [],
   "source": [
    "from aocd import get_data"
   ]
  },
  {
   "cell_type": "code",
   "execution_count": 4,
   "metadata": {},
   "outputs": [],
   "source": [
    "data_day1= get_data(day=1, year=2023)"
   ]
  },
  {
   "cell_type": "code",
   "execution_count": 5,
   "metadata": {},
   "outputs": [
    {
     "data": {
      "text/plain": [
       "'3fiveone\\neightnineseventwo1seven\\n9h1xcrcggtwo38\\nnine4pvtl\\nseven7rsbqpgxtjzsgxssix\\ntwofivethreepqgsvrszczrthree7\\n44qcrkvr1two\\nzstrmphtxdvdpsnhpnq4threenbjznsb\\nbhgxhb41eight\\nqhstsbxsspsrfourmtvtnfhxlj699one\\nonekvhgkeighteight6two7ninelnfzbr\\nxsixz5six3gfqrzmpnjgskd6\\nqfrpksmzzvfkddtfh6838\\nmztttgnxdqt4\\n8threesevenfourgbgteight5twonenjr\\nbpzkn2rbbjtdtlznl\\nglckqhjsbsznseight5dtnxnsix7\\n2shd3ksrtmbs62vvdvhd\\n9ninemdkkqjzjfour9mzspzjgmlhfq\\n7twoqjbshcfxldnkc33one83\\nzstxvfdthreeseven7mdfpgzgfourdfshplvqflfprt1\\n9mndn31msfprm1kpk\\ntmczplnmrsevenhmhprtllcktpr8eight9\\n49nine29917five\\n6qspssvm8\\n7fourninefourcpfgpmxqjsjxmjfntwonine\\n3nxfjmzhseven22one\\ntzgnljxhs9nine1lvqgsix9four\\neightthree9eightfourninexl6gsdhljppfb\\n9g\\n2xlcvqrxs2eightznzdghnlvcfour8xbzk\\nxgmfqvdbsn7sixnineseven5\\n65zsghsnfbseven9\\n7skmb5\\ndbvjtf294threefournine\\n21hbtcfzbjhsbxlhd\\n27four\\njlrthree9four8fourhqnsevenxqlmtsmzt\\ngjppzpvglfsvdmonercrsn4\\n3zzxmhc\\nldfgpzjmtcbj3jvsltltjv1eightzrdczhrzpcssrsrxbj\\nszblqqfgxhxkk3fourvqnpzf1onesixthree\\nvsb37three\\n8kxdcgmpb2sevenjdvc3eight7\\nkgrsmfghvfivemhxnfiveqzzspmgmsvvghzd1fzcrkzdfsb\\n5mphlhx5dmcxxcpcxsrdzdninethree\\nhmqdkgvk4twoeight\\n2rjxxdcgtq5fivehzslfc\\nsrqzfsvpfbnsvninetwothree6sixppsmfrtcrxxth\\n4fourtwocdxnzkbznnrf\\n4six419qpqfvfdpcrqvsjhgsfgrkpfmphseven\\nhxdcttl72seven\\nqkoneighttwoonesixeightfive2tzmrtpcthreefour\\nbnjqlftwobvsvjqptdp1two94twonej\\neightninetwo278prrbvmcmf\\nseven79two\\none9bx\\ncfpbdmjbcd27sixfour\\n16snbjgjzqxzplxkkclpxzdx\\n3scbbonenine5fivethreenine\\n21sixsix68oneninefour\\n6ninejmtrp4fivekxgdgj\\n6mhlddxbshqbseventhree3two6six\\n7four8smntchbmj71oneeight6\\nsix25four196one2\\n2foursixftdbhbtd6\\nfourfonekfsxdgvglvtrnrrjzmmkzxljm3\\n3xckjzm\\nsix9ssvkh1hdxcxmsptlxgdd8eight\\n2eightfourone2ninezslhqhdlcp2qxv\\n7oneclztx7xsxhrhhggfbhzdfgkdfvsqjskmdzj\\nfouronekkxqtrkptqz8\\nklccbbvbjsix3fivenine\\nrjrxdxdz33nine\\nsevenninen5\\nnineseveneightlcfrlftwoxlsmrjxnkk7zlzpbzm\\nrblvkfltqtbm18one7bvkzvvqrlbtf\\ngdcbszzf6sqldx\\ntwoninethree23sixninebnzzjgqrlfktt\\n62ninetwo\\nfourfour44z8\\n6qxdvmpkq\\nsixfivesixthree3x\\npcqfxpvb1threefive77\\npncgzkppqqhmzmzjmzsevenxbsggc8\\nfivexxdvpl32rdsix2seven\\n9blqpthpvfourfour69bprn\\n8vxsdfbdjmldkvtkbr4three\\nthreefive8\\nck4p6\\ntwo9bpeightldmrnzbt\\n4dpd\\none7four6rcvtvfmzmnineq3\\n4njtvkkstgmbjptcpdpzdfive\\n2tsl1sixgfbbpdhxgrfpt\\n947four5four3fivenine\\nfivelhtkgjhhzxfp3\\n7one1three4sixmcrjlkzrj\\n9fourxtzqsjjmxfivehttj15\\n2lqnfrgvdninedrdj\\n9rtxjbffmsbsqdrnjjdkb\\ntwofour8\\n1sixfourone\\nnine1xzpqkfhmzkbqtzh\\nbbh9fqrbt94onebdppqmtjlq\\none8nnngz5\\nvchszvlzpljt1pdv6tqsk6four\\nsevensix9qmjkrglh\\n5threenine7fkrtbcsevenjlxrkltp1\\nggrsfivetwothree687two\\njbtdsixthreexxvjbft5\\n1four2eightseven8one3eightwogrr\\nsix6vtltzh65\\n7bbxlhgdbrh9sph44sbboneoneightxcn\\nlptqrf9twofzbmbbkkmt\\n1zhxmsevenlnsxmdcpz5one\\n63one\\none3ninepcnphxdzvhvmcv846\\nnkn6eight21one\\ns1cnkm\\nsixone3\\nsixbvvmreightonethreesixthree3five\\nbvbeight5sevensixchfrkjz\\nhkfkczqffjmndzseven7fiverklvhv9\\nrsfccvtl9seven\\nfourczfive5threefive5qj3\\n9fivexskp3\\ntsrdgzcvftbvllhvcvzzthreetzzspvvjkrfgn9\\nbv8twotwo9nh\\nlbksl3cpgzlxjgnrpqslbsknglctwothree\\nnine9eightqhcdzfcp2\\nvckdtskc79threemblqcs3sixndlxfpq8\\n1ggkrvbpsl9ssix6one8zh\\n679one9nzsktvfseighteightwotjm\\nthreefive7gfzptnxbvvlzlxbteightglseightworsq\\n843trvvsxdkfspsixonethreeone\\nhsrqmrfvvzkczhphc8147xrrnzldnvr\\nm6six\\noneccnxglxone29\\n37jvhjvvlbv223mmnrthreesl\\nbpeight1\\ntwocd8\\n4sevensix8twotwohhmzr2\\ndjpbjhrcfour5vbpkmsgnjckrkvt7\\nsixnfrlbv8sixrqgmt4qmftxnrmx5\\nsevenzvhhfourchckzrljhfivevjbxxh91six\\neightckclzxbkqmkncvfdxfx84zeight1\\n9stftdhkbs4\\nqrpbdqzsjfj3seven21zktlblk\\nseven87\\nlpms5\\npdgpscn74s4onelh8\\n7ljbdfour1tnfive81\\n3rjlmtdvbr\\nlnvjkkgjc5\\n7vxlqgxk5lkfdnsdh3\\njlpgttbf35fourthreenine3cdfxbsdgslczvpjssm\\neighttwoplpbcbkltwobvzccbhxndndmgxdf5\\neightoneeight4\\nrkfx585\\n9fourfour\\n7pxcnjslqgp98sixpkhvqjhjqgeightone\\nfiveeight1fivehvqrnzxqlkrcmd\\nsevenvgzkmhst8ninegcgzxkxr4dpdjsmone8\\nfourgjfncfeightlptffqjhrltngg6\\nsevenqkjdtxptzbtwo8seven8\\n757ltrfkjzeight57\\n1twofoursix2xcqkf\\n7ninetjngrkq7npldprkd\\nkqcgtnxvjv9\\nnsvqdsqzthreeqtzzhpd6xcggbnkxfone5\\neightzkmbhtmpxxjlfqqvmvmbvgmbtpcbpz1\\nsix1tpvs2sixnctjmdlc\\n695one92sevenggrsc\\nstpr38onedftngldtx8lrsgfljrc\\n1vbzxfive4fivetwotwo7\\nkdsjx2\\ndntkrpshcmqpgskcgsgvq9\\n6pskhmkpfive1nmkcvonemdfpqdtvdl\\nfvfndcnine7khthreehljzshdbkblgm\\neight49rcbnkmdthreegqlgvksvxksqf7\\n22xsix\\ntwosevenfive72bccn8rbzkfczgssqcg\\ntwo9hclkszjmxonetlgjfive1\\ndgpm6nhzkkqng\\nqrnkpxnn3lltxqxxjzxdkxhlkceight3eightthree\\ntwo5two4one61\\n59ninesix\\n3nineninesevenfour\\n9cvsx1jzrxhrxshldtbbn9\\n65four\\nthree738\\ncvj2sevenxrsdqhp\\np255hztrqj92sevenjlpzm\\nqjsdgdjrxdsjdfx7one\\n6fivexm1qhxbgcvkvxb\\nfourxdnpqmjs3bqnzzphp1\\n7nmrndvq7jnxnlsseven9twonelxb\\nfour1sjnh5zkrrlxxj\\nhphshrj3cztfgm23two\\n1zgvfourninefivetwocllkr\\n1mgqmktstwo\\n5ndrsix5tdmfcjbgvff\\n4onefive9918eight\\nsevendbtcttvmcnljp3threethree1vmsggrpx\\nfour5llnsvvcrcgd7sevenldffd\\nnine2five9fivemfour\\n2cpbhssgzfsrhjtq2onefmpdqfivehxvbzpfmg\\nspglsevenrtbrkpnrq6\\nbbfqkt5nkfrzl99gxdlzzsb\\n6csshxkzkshsxnnineeighttwoclslvdkjkc\\nfive9pcb2nine4two4b\\nbrzrd5threendzpvs7ldkjxmpqqr\\none4vdtwo\\nfourseven5493dvldshvz\\n1gkmnj\\nninethree8\\nvshbcvtvvf4eightonesix\\n7nine485eightrmxbrd\\ndctwofour3\\n18ftwo\\ntwotwo8rzdbgeightthree\\nsevenztlzzn38nine3jtnqjsnine6\\n14qrvcspxmr4\\n783sixxkkhrpqjrt5ninesjflktt1\\n73five3\\nnrtwonetlmkldqrcjqrdn6gptzdclninethreenine\\n8sixxqfl\\nsndlpvjr3\\nhx5zzlqk1571three\\nzvl1\\n1twotnqcmfqrnr33rrhghsdqddpmbzd\\nnine1threevcninetwosix7m\\nsix2onesix1xqjzczdrl3\\n15jkhgkfzseven26\\nfntvfkhfzsfour7onesevenfour\\nsixone653\\nhnvftxjthnmfive1sevendfnpkpffgj\\nrdktwone9fourkklk9rsseven\\n2fivefive4eight\\nvmfour34lpjzbr517nqkthkljv\\nhk9rqtwozr189\\nfivefive3\\n5one6four9twohsnjkcp3\\none77twoeighteightfive6twonek\\nvrxbxdgmtwo8tmglzjx\\nlp4ckhf\\nsrh2\\nhsbkzggsfgeight5qhblzgsppxbdlpvhvcpgkndzkjtmpggpdx\\nsixzvhnnzffnsevenfourpkxnvc7one\\nfourvgv19g6xhphkdt\\nfgvl8nine42\\nfour97five4lfcmzchtbmtvtvbr\\n3onesevenqtwo21jjpgtwo\\nfour44fournine1\\ntwozhhvcxck6\\nskpvglmddmxlsrt3961nine\\n8twoonetwofourtwokxrplnrvhmthree\\n7ktxhsjdml6twofive\\nzfdtjbrfive669bscgkpeightseven\\nzmghddqkseight5two63three45\\nx4one\\n5one1pcv9kkninenine7\\nb678two\\nx7\\n97foursevenbhrxdpkv1\\nrjkfdbteight8fivejrspls231\\nsix2skbfzvnlbvfour61seven8\\n2mcqpccjfs5\\n8tm\\nkr9pmdxkzjsg69fnkrrphlxqpsqjhzbznine\\neightcqmdq8twozbbzfkxlhsmmv7\\nxvgflfourkhn3ninebx9fivedzsmsnf\\ncrrsnkfmvtwosmjk7\\n8four8796\\nnxqhdsczcgnvq5\\n8five5two9three4\\n6clffour2eight3zgzjnnmfsix\\n1drp4six2rtszhttwotwo\\nzkmlfive7\\n245eightnine9142\\nsixfive1\\nxvnbjvfivezhzfpvnsthree5bvvfive5cxjfkszprp\\n3bbvmq\\n13\\n946five\\n5twooneeightbhxfhpvjmlgtkccqgmqjnq\\nmlq7\\n122fivetv4\\nfiveseven833pszfqhbt\\n229oneninenine414\\nknmvqkkh1cjbbjnjzrtpxdjznn9six\\n78nslms\\nvqrdsmtjtgfourninethreefivextgtwo5t\\nslnrndksnb95three8vrskzqzfthree6\\n4twofhhqdghjssjkkcjlbjthree\\n2xsnjsfngdqpzfmltkrsk1hvhktwo52\\nsevenxxmxmmngqmdx2lbthree\\nfive823nine\\ndszvsjnzn7\\ntmvlsfive5prd\\nsix3nine\\nonerzskmfthree3sctlkhcqrdzc97\\neight34kfour2cdgnnkdff\\ndmone3three5hjndcbbonethree\\n63five5513pdgczone\\n6fivechs4vk\\n3zlqsxzqdnpseight5\\nfive6eight13eight\\nzjknbtptmdzfour3one2seventhree\\nsxshgxbcxs64dmtzplkqnfffkpz\\nrml4b65htpzcrlrbn39\\n8tlpnvnrhjb57\\nfivetwo1five\\n9nrrms247qcffourone\\nn6two2sevenvtfsxhsn\\ndxjtpsfjcssix2ninefour\\nqfldkljtbqc4five72fourjqbkbrh\\n3nine1\\njflrjzjzfour3four8threefouroneeight\\nfivefivesevenseveneight771lhpzhb\\nnrszb3eight1tbzmmps79\\n8kkskdtwoeight78eightvbmv\\n4bccrqxmrvd1three\\nnine93fourjhspbgnthree364\\n11q\\nthree7fourthreeftbxtmmm\\nmznine6six1\\nsevendzpcbqjfdk83twobgqfourmkzfzflnn1\\ntwocvbtssm72\\nkeightwo12\\nfourzxcbncddhthreeqsccqgsf4crzszqdd3nvvjsix\\njmh3ggvdp\\n12fiveninefoureight\\n3tvlmfpkgrdthree2phmllhczeightj9qq\\nsevendndrnfpfzmgvfqnkp8pcjlttzfour7\\ndvtbsjreight1fkdlffive55bxzpsrnxtbfour\\n7threeseven\\nqrhzdlsb4five\\nbvdvjfqvtrtqntrrnqfpf87njtjgxzkgbcnine\\nz927\\none2eight\\n7dpszhz3pfnrrtrkxjn\\n8mfkvn\\n258lkpqdc3five733\\n1nine1threefour\\nnnbfzxdmm828cdgvfive\\nthreetwothreethreetjzskgfive4\\nsix893sevennine82\\n3ss48phseventwo24\\nxgbpshxnkvcppnninepjcztcsevenqbnjcjftpxxkpqp66\\n8mlkbpdpftwonine4\\n5three6six1seven\\n91onelrttnjrcqjtnrfivec\\n322one\\nsevenmfpxvntvkpqvpbnnbpr5seven18sixeighteightwok\\njnthkgsrone6vnkdvkjznjnboneoneseven7\\nfive81472\\n2onefive\\nnine9oneqfb7\\ntcf2two2145eightsix\\nvdjhlrksdhcone17three9qoneightr\\nfiveone82228bgrr\\n5rfxlfbbjqninethreefour\\neight641\\n2pjmlgrrzvv\\nkpqsxmvhp4twohnlsone3eighttwones\\n35sixd9eighthm89\\n8four5onethreeqmdmttvchslfvnqrbftthree\\nfivemmbfjmq1jlvzsix1hgkbr7bxcsc\\neightgmjxseven5fivefiveslbfsqrjrnbhqzgr\\nxr18oneqjgsnjfzcsix4\\n9threefivekclcmrnsix654\\nonelnh6sqvzxeight9\\n6vjjpmmxxknineone79\\ncdsfmz97twoninetqhhtsljsixseven\\n8five6\\nninepkp3\\neightfour4fqtrlnzt\\none4pttsvonexsj4\\nfczlpseven261\\n9six6nine5nb4fouroneightv\\n2snzvzxkbbpcvd\\nmvnqjkcmkhrvnsxt3hjkj2ninethreezzbbrsdone\\nzktwonemhqnxssxftwotsd1nhfmrxpffoureight7\\nqfhlmpxhxpthreennlk7chk7zzmlqxmtlk6\\n7dxhzpmtwog9\\nkfkmpmzxhn6four87rcthd\\nbvplp656vtxxlqvmm6187\\n811beight\\n39586547\\n18twok\\npfxsfxsvkjrb9\\n38z9trcxdbfivedmhtdrfive\\n19bhddbmbkbg77\\nfour522\\n7vshvtblzonefbfcfgsfive2\\nmgtwoneonecthreefoureight37eightjqlxf\\neightnine67gthszx9tzxczcpone1\\nfourfourthree2fivejrfgkb6seventwo\\n4dnreightrv6ql3\\ncsfgqxjdvm22jjnr9\\n42szlhdvbdstllzldtcblgtfive7gnctbrmvmn6\\nztwoneeightfourzzsck7seventwo\\ntwo78\\n1hxqtdxjqflthreesrzzdbxmfnvk89three\\nrnprnnpbjq7fivetwoneqsh\\nhkpjjpbl3nineone6pcszznjft8d\\ngcbtzdtkhnbbjnftwo2four7nineseven\\n3foureightonesixrfqrjlp\\nqvftcskmxdvnsrzqfourfivethreenine99slncxvjrcn\\nsix5sshpxtr88\\n7twofour\\nfour143\\nvrxxmzfp8\\nfour9tg8bfonesix59\\nthree3onezsqdtkrceighthnstg6three\\n7seventwonine\\nfivetwofour9nine1two\\ntwozfdvkjzbtwo6xrjgmfgsxv\\n1dqfcfjcbxxgxrksixnine4\\nrfpgseven5ninezdmbx5\\n622\\nnine19fivetvm\\neightthreelpj58qjlnhr\\n9fourjtczvxfourfivebmzds415\\n3fivejbgzdsx\\nfcqdbxgjf86twofour\\nnine6oneone\\nonefour1\\nonestc6eight3oneseventhreeone\\nseven2six\\nplbgd5nmppgfpbtphsxldrllpmnprm\\n1three14eightbvnzx83\\nfour95kkpjsttjf8one\\nmrkrgj5xtqvvzpmxn8nine\\nnineskg78nbrnonelsxfxkxlrc\\nqxnvkcx1one\\n9ztbs2grvsixsqt94\\nsevenjhtd7\\nqjb78nine29\\n3oneonegjtcppfrjs633\\n3clhz\\n1v398nine\\nmqlsevenlcnblh94\\n5fiveseven\\n73rbhnnsixsix7ntssps9v\\nsvjsgvdsrspmsxzkczseven11nine4\\nonefjncqnsbsvqqm4478\\nmfzfzjhc1zgbtt\\nsix1sevenseventwokvbtwogvpstm\\none56nine\\n8sxhbpfrxfsixl9lthreehr9\\n44nine4threethreedbbp\\nseventhreedp66gnxvfnpzvdpqflnx2\\ntwotwofour37cmfzvxqjp5seven\\n1twonexlr\\nsixtwosix6seven7g\\n63zscqhtonebtcjfdjqc\\nfiveklbblk4eighttwonefdf\\nseven7one\\nzz361tmxqdpmgseven6\\n5onethree6cgkfkdcmnine2blhxzqxjqk5\\nthreefour43dp\\nhcmjsszeightthree4tsnppskn78ggl\\n7gzqsthtmvszmjvcgseven\\nonethree6sevenonetcxsseven\\n3twobzbxc9onelxfkvgsnhteight\\nhnljcxrhxhjkhmhtffjrcqmeight7kcjmhjlvmgq4\\n5nineseven6lkxzlbf\\n49jxmvnql8crs\\nqgq6eighttwo5one\\n1xclqfour8bgqsjknine\\nmrheightwogfglthreeeight6threeeighttwodfkjgp\\n26three6nfrxkhqlq93seven\\n3two4gjzmvvnrhdthreekrqhbfgssjghksix\\nsixone6sixfour7four\\nzbsvkkmhmcone677hmjsevenrqmng\\nmqzjpd5foursevengxmsbjhl\\nlmrpmthreelthree19tvbnbfqggnftwo\\nx3\\n6zrhpdnxqpbfourltbvhlglvseven\\n3onesixeightsevenqjjclpcndtzgnzcv9\\nfiveeightrm6\\ncfqonesevenszbvlkdpfourninetwo6five\\n9lhlsbntzfourhvxfxgfjfivezcvqfshmldcmmhb\\noneseven28pjmqkd\\none5three284fhrbztwoseven\\njmhj2rnf983bbzsmts2xf\\none981eightr4\\ntmtwo2zrjdd9five\\n4eightsixsix\\nq3rszpbkftqv\\n6zndd7\\n7sixflqjpcgrh4281\\n89ninehbfklckdglmcgvm2\\n712gsfgtdvthree\\nnine5knlzninerspkdklnthree\\ndhjmgthfiveeight79threefive\\n87bn\\n4eightkbppvkx9sevenzqcfrqlbxmk45\\nfourthreekvtvdrlgjrk2four7c\\nsix6dlmmmvfkseventwoonesix\\n47rsjqzcqsnffourqdggnkpgsqjgprhrx2\\nptbtpthmkeightxtzjftbff6dqzdq7\\n48sixcfngcjngjs3bszknmgzjthree\\nnmcdlgrrdrmrrbpfn1\\n5q6crrhphbmqr8zdddmnseven8\\nfxlkdnq6\\nthreeffvsrjdbtfk6trsgmkn\\none3fourtwofcqsgcvvg\\neight8onexvdtthree1pzfrllrjrtktzvnrp\\nhlnine3\\n54three3zxbdtjrlzone\\n5qjnpjvnzpfive2two71rphp\\nnjseven6four\\nbgpkmfcbl72\\n9vmjgvhvfvd1\\nttbmt46two\\nmksvjgxsbdnlg8eighttwofourthreesfn\\nmtjm6twoseven46\\nfivefourcktdqsdlvpdq1eightwolc\\n45twoneqs\\nsevenplrfqrhfivejqzrnv3\\n9nine4threetwolk6sevenk\\n5qxpfourfqtg\\n34cpbblldjfqpltcntpzninetwo\\n7eightfivehczsxqhglmtpsxk8hkksbzr\\n69two9\\n6seven33pggfive1\\nsevenhkhrj2\\n4phnnpxthjn8\\n4vnnfqdssrfive8seven8ninedfhl\\nfrhf15three4vvlgthree\\n4nine3\\n57hlrhqmxxxbl\\neightjhblpnjk786fivekrq\\nrj9twofour\\nlmszmtrhpthreezbdghgfour7sixtwofive\\nninesixrlxxsskgjpqfdpzbthree5\\nqbddmnpgskf1tpfive34\\nfxmninejzl319twoeight4\\ntwo7ckzsmvqfcbfourthree25\\nxzhqltqmdfourqshqmlxpninecbrsclzftwotwo7three\\none3zdppmxfroneighthb\\neightsix8tmh7fivesixgbdttd3\\npnhkxlcsh35\\nfour45\\n9sevenfivehxr4eightfour8\\nrmvmqbclzr5bmsxdzxgptlhczgsh42eight\\nbpbbvbjrptfourqpkdfqkjcrrpone1b3\\n2six6\\nninesixthreexshfvpb5\\n3xhljmkxlr1clcqkmbdrmtxptgl\\ngfkhdhgv27ktc7foursevenseven2\\neight1eight4\\nnine4vzdqjs8three9\\n2lhmbfzonetwo9\\nnlhkm83cslc5three9sevennine\\nthhllmnnpxsbtjvnrnhq8rbvhzfrxzqqqhccqlzfggseven\\nfour6six8kqmjzk8\\ngcrqzmbsh7seven6\\n8five575four9six\\nfour615\\n41xzlprtjncrlzbcgvbmclsqrnbdone6\\nsdphx53c\\nthreefblfr1seven3\\nxqh1one\\nqztslzlkheightsixkrpfourtwonine7one\\nnhqdsngrf8seven7dkbkfbdgdcjvnmdbzx9\\n7qrmrsnhvfive4klcrkkbtwo\\nqpltxmjl3twosixrnvmlqvgrgmgninetwo\\n43lbsbgjkng1one\\nlzjqmlxnk452zrglhpbpvtwo\\nfourlmcprk36mthree\\ncssthvvxrgpks48glbxk\\nqpmkfxk4fourbmnbfzhgn2three\\nzxkntbdnm3fivethreesixmkgztvrfpkjgxljbm5tt\\n1vlhrcllfjtsgmqcvhcbcr98\\nnine6dlkvtfjfnq3hbxxm\\neight42\\nmnrdpvdpklgkjnrz4\\n1seven93ninesevenjqmeighteightwoz\\nseven8933five4seven\\n9lldhvdqdzvdgptsmf1eight\\n7fiveninezfourkrltflg\\nthreeseven9\\n7hjfzpltbjqbkx1two\\n1twoqghxlrpmfourfivefonermntbg\\n77eightjpgmmjst4\\n9three8586nine6kb\\nthree8ninetwothree2\\n13xrhdzqsonesix43bph\\nfoneight7\\n29one\\nrth7cczktksv2\\nfrrpbtjjcdfccdl1three\\none5six4\\nninehszc5svnhfrqm\\nthreezfrmbgmjzg6\\n9eight8one8fxlkdjhql\\nfivesmtkcsskrq7hxqbfkbqlninegnqddjrvxb\\nzfivehhknpdm7fngjpkbvone\\n7five8\\nqkcxcpjzggzdxrfhlbsdbq17\\n654mk\\n2mqtgbmsnhq4zv48jzdchccdpzhs\\nrpkfj1hkrztwosix4bktdfk\\nseven9bxjmvrbb\\n9threethreeeightppdkjzltclnq8sixnine\\n7seven92\\n567onefour8bsgjtrvsxkjlsc\\n1dnbsjbdsrsscq3ninefour\\nvbpkpgssljgtxdfivethree6\\neightsevenrkkjszmxvxtwo9jpvzldd6\\none7523vgpvlkd\\nfoureightonepeight4\\n9fiveeightone\\nnine7one9\\ng328dbspnkseven\\nthreeclqhr97five\\n8onefourffhrmfkvctt\\n2pzftpmvzfive\\n433tvdzmcrdl\\nfive42ckvlkgkjxh35sixd\\nnine6hs\\n99cmtdzjtpxk15c2\\ntconexjkkh9\\nsevensix5oneeight\\ntwotwo4ncmpzpvvdrsxkpnpfkjseven\\nnine42\\n7sevenxntxxdnfckbkdh7seven6eight\\n2foursevenzvdvhmzscd8gmlxxkqxd\\n5sevenrzntpronehfpbdcmffdscfvsqjcvnbtqzpph\\nthreefoursix6ninegdpmtlsix\\nlxcflpcvgctxhm1nine2\\nseven4one9mkkznineck8ptpc\\nseven4qtgqrcvfcfourzfdnx\\nmd13xsdltxltqhninemjs\\nfourtxtscncgxvp3tqthreeseven\\n8zzvkkmzhr7sevenfive776\\n91sgceightvgzjdkkkthree\\nmfmvgtck5gbjstzvmfvtmr\\nnine57one84sixmqt\\nthreekslcvdzlhhq6dqtkp9two4\\n2slmvrvz38\\nfoursix6qlqvzqbdzf2\\nmftwone3eighthhcsgfvrrj\\n174bx2ninetwo8\\nninetwo7mzlcjkmj\\n37four2\\ncjmlmtwovrvsbmeightthreethree3lkq9\\ncscvfbgpjmonep8hmlnvrhvgsqrvcp\\ntmqkssbt79ninerfgh88\\nqdsxzxcseight7\\neighteightnine8threecbcnfdtm41\\nljpcfour1368nine\\nhftwoneninesixxxmdtcfd8lbvqdjg\\nkjktdqqbfourdvkjlprhkzgfivetcddgds1\\nqjeightwohvvdbqdnbknktv8six4four53\\n6482cbb1\\nsixcczlxcthree35lqn51\\nrmnmjsthreehfxsjqlpkjxmdkg7three\\n94lhpqldseven\\nfctfxjvnine7\\nsqnthxzkctfk98\\n8xpknqzfkone\\n9threeonetwo\\n59d8twoshphfzlk\\n26vtseven6bsfkgxmjqnine\\n6nslcxpglfoursevenoneseven\\nsfvpkkvdkrfour31one8bqcrtwokhqp\\n29vrcx5four9\\n43two\\neightsixpcmhlk7nhpxhmnrmponesevenpkfgxmrfnq\\nsvfjcqdtnmcrtjdgseveneightninetwocnbrrbcgmreight9\\n25cxhtcxvgkjlbcshxrfour7rcnkzmm\\nonethree14gvjpp\\nsevennxlncmqpkvlhbts1mhpfxzqf8\\nsix6fivesix\\n3fiveone8one6six57\\ntqgdrncxgpxpxz33\\nvrdxxljfeightseven63b\\nonetwo56nineone9kkb\\nnvpqcnrgqrrnzqsqrh4four\\n67twobvxksevenztnhfpzkj9\\nrxddljfhxhlbqqrllk3six\\n8twosevenone\\nonejxjpcnzljjdkbkmgvvrjrkgxgpqzdmpjzt4\\nftbssc2fgtmsrjbr\\ndjxnine1seven6sixone\\ngrqxsevengkkgv83fhspzflvfbqjrm\\nctsj5svksdtwostmft8twonine\\ntwo9thpzhrcvdl4\\none2seven2plxkgkldxcpqconecfnppseightwovz\\nprleightwoggdqszvonefrqhh791vxxcfv\\nnine4seven6ninepbfoursix2\\nfourthree8threett488\\nsix984three9r3xjnmvp\\n261\\ntwoonedrbbmvrm8fivejsix\\n6onethreethreeeightxpcchknine\\ntwo55oneone3three7five\\nthree3threekgpsix\\nrqvfvm9ninesixninesix7pfsxcrx\\n4oneeightsixfive\\n2fourthreeqjppmfjfxnzfdhlr\\n9gctq3\\nvtzcng2jhrhgsqhq\\neightmmxz6ninenleight\\nsbzllxonemjfffkhltgpshkmlrjb7oneone\\n7fourfivefivefive3qjfdzclghxtc\\nfourfour9hmmlhhbxfour46twomzsgpkht\\nfiveqc45\\n2bvseven54sixghpnhleights\\n2qlhvfive6ffpbhftfp6\\n4sixone1sevengqqqjbzr\\nspq17sevenhjfkkjzdf\\neightphqcjzdfzpttgxbsix1fvmnvqczr\\n9hxzczdhdl8oneqkqdlseveneighteight7\\ngllbrsevenfour4vfcgth\\nlxdqx59mvzfjcsjl9\\nthree2eight3seven8rzsthree3\\ntwo8seven64\\neight4dqqgeightseven\\n71threejdzzk\\n6fourgtcqnjkzjljksdqtbddpvxznvmprjtr6\\n3fxkdgm\\neighttwo3four6zg\\n6rxlnjpgkkstkbzj\\n74pcpzgndmtjgngonejfskscqfgm\\ndfssmbbxf873rhrbxnfzcp\\nbpqlnrtn5eightsixdschkk\\nlcrhcxvbrqhbz1one8\\n46mrpfrtpnzdkshjgfxnrjbtntdnfive\\ntlgtzp86twofive\\neightpmbdvzmdmpfivebphsv2pzxtcsrvtgnqnhvsbdf9twonehc\\nxqkbgbseven5\\nbheightwotwojl1one8\\nfive7zsixgsmtvpxkkdrjtqtfjdjln\\nponeightbrndfh97kqtpgcstvnine6\\nsvhgqmjgfoureight7twodsmcnjh6mmncjvltp\\n79sixfourdlprglcm\\nfive31\\nncnmdbvvhnpqxzkktjzbsqxb42\\ntwoone8mfxc\\nsixtwogxhhvcqpvzjmnltcdskdthree3nvdqeight\\nstwone15\\nthreethreeghzvvdkd7\\nfivesevenr3nj\\nfive6rmrccmczninelshone62\\n8threet4nsrrkhg6bprcjtrpgclp\\n3twoseven5\\n26twopqtvsks5\\nninemhgqvchgzgndlone938five\\n5twoprnvvvfcbninexxfrh2\\n6fdpxffv4\\nninetwo5one6nqngsbqghbphngmone\\nkvqfvnxnine9552\\n1lmht\\n6jvngqeightqnp925\\none53rqlbdzfive453xp\\n32gntcntdtcv\\n6qxdnhpvrcd5fivenpmqb\\nsevenninesevenfive9\\n98svjcb1nine\\n777ctrsnjzlfbxdzbvckr\\n6three4onetwofour2five\\n27hdhhbv68sevennineclpdtb\\nmknzmjqsp5xd7vdmfkbcfpgst2\\n39twotwo\\nd78jjxpgrgmpbthreefivezlbvgphnsd\\nmcxgg3one7eightrzbdqzvfnvxn\\nncmfng86sevendqscgbmlrjnkvgqmzzfff1\\nfivejlsdtbktwosix3\\nnpnxr6five947\\n2prjccpmn3hfnxpqht8nine5four\\nhfqrqpzfkqllthttmb4kcvfgtmp\\n2fourfour\\n6pj9fivenmhdlsx\\n6csv7ninesevenlzgzninesixsthrlvsst\\n7one83\\n7mlrfqmjq47gfgpqgkgmpq72\\nsix5pnslzjhthfour67kcvgsix\\nninetwothree3\\nvb91two4two\\neightdqmnsxlhhkz44two\\ntrzzone6tcvrsznine7kdctnine\\nnineninefdfnxsixnrq2ninezrn\\nbl79eight59\\njvjxkgjrbqdmnzk432sixmblqqmpn\\ntwo39hthree7\\ntdlcjpj5jhslsgfcx\\n4two9jzdfzbbp\\n9six7gtbk15vqzhhsbtxgmcx\\n7vptsbpmq1\\n59nsfbgxkvphnqvt\\ndmffndtn9\\ngzfnfsrdmrgtrbbsfive586xhrc\\ncxvgfjjvbtlvkpsgsknine4jjgntjjzgfqrmlfbx4six\\n3tszbt1six3\\nptjjhztq9eightseven\\nzglcldrtwo5fqhvmfivesevenxvkxl9\\nsevenonephscj3foursix2\\nninelgclbhv37\\nfczvmgkzbm2jnzbgxhqmzoneqsrdj61\\n1v8hpchzrvnzfbxninencjqdtqvgl\\nseven6threeone\\nfive2sixrlfqftqzgks\\n6three1xzgnkrzl2krjtxr\\nzgkjvnkczstwolctzzlsevenone6bglzxscglsnjm\\n3kvxbzmpvrp\\n75vfz2\\nvpnh25eight\\ncnsdklvrsix2one\\nkvlsjffgfltbkckcznmgrr8\\n56foursix\\npmhgkfonehjdslqbdc4eight9\\ntwodmmsk57nx\\nlfjvsz6fivekfivefivesdplsixpx\\ntwofivethreeqdgf3eightthree\\n43sevenhnvsp\\nthreeeightzh3threeqnncknpxgseven\\n4vbnmhgrmtsblrhrtoneljbbnvxmtvbfzssgone\\n5kvqfxmlkgcmlmgbfiveeight\\n55ztqqfzvmdppdpq1three3sixtwo\\n26bskpdjql\\nthreehhgxmxdz1five94eight\\n52fourzcbcfknlvlrnvhbnldq\\nthree49four8gshbnmxlc8vphklsvfmhnfss\\nsevend95\\nfbkmpcone555oneightkc\\n5qddnptqdoneonezczvnsl\\n78ttssqjfournddr986\\nthree4five\\njb6\\nht3hmrbxjsdvrsnlzvsqrj1rlcfggt5\\n5bgxfoursevenrhtcqf2dpkvfmsmh2\\n8rdsljbdggzseven4chgfppzmzkj\\nhfcjpnrzsixfivefour6\\nseveneight5hldmqltxonecbtknbeight6\\n6ninetztvlzdmgj2xzbtk\\nthree988twodndrqvqpq\\n4threejkrpgtlhgg6five\\n4kgxgmprssixseven\\nspfpone16\\nxcpqvrthreemrggrvghqcgbqtkknvvk5\\n2three84bxtwo\\ngjmv82mgnqqgnzcgcd\\n3nine4seven\\n9twosnine\\nnxfmfour8bgcgdkvb\\n8three6one\\nbxvxksbbdn3knpdc6stfbxffjggfglc\\nsevenmfpxjgnpb743five6\\nseven7sm\\n8qxbbcxjvppeightwot\\nfivetwotwo1seven8r\\n96eightnrbeight84\\ngljg4fiveone\\n8nine6sevenmllmmchzjxb\\n3twosixdcgl\\n6xsfmfjjnz6vstfvhndhlklrsc73kljcseven\\nthreefour1\\ntqtlxckrrch5jone9\\n9qjsntszxb\\nninetwopqfnsrxrfstwod8one\\n6eight85\\nfour63vgjflnctzssfstjx113\\n1vhshftmrbseventhreetwoeight\\n51bntvpdmxfznine5hbt\\nfivebpcntvnklxxseven9\\n2xq\\nvjcbktqbxd55zhdxrhjqnr\\nbxqndkhjg1sixvjct4\\n2two1three\\nkkconeight5eight9\\ngz6two\\ndmctnkrmone7fourdfqcfone3\\n9oneightcb\\nfiveqzjsvjqlsd99kpsixone\\n8fivehfphnvtdf\\n3six8jrrlnpj\\n1six53hpmgsfqfourxmfmdqds\\neight7ljkrn3cntjv\\n7rkscrcchttwoggxktqdptwodpkcsgpbseven\\neightthreeseven9threebdlskshg\\n18xpklsg\\n2sevenjlscgksv\\nrmr3784sevenbgqfhklhl\\ndbmtkvthree9mmqzfvmhpthreefivethreetwo\\n566sixeightone6fiveone\\nsixtwokf9\\nlzgsrdmnl2xpps\\nzlbmfmxtvhvng1eight\\n1nine76ninegpc\\n8onesevenxqjqrxflrb1\\n2dhthree6sixthree\\n4eight16\\n2threenvllhnkqthreelhfnbp1gmkcgdf\\n5threeeightthreeeight\\nqjltlxkptr7threezplpxvqgrrn5\\nftkjg8onedxjcnmrsmf6foursctg5\\nthreenks5\\nbtseven2dlqjqpsnhxqmvqnjx\\n43four\\n64thknbt3three\\njgghlcsxl4gtwo9gfdcgxfour\\nmvdkntknjf1stttccdntnrxhhdzgnrzznineseven\\n2nine4nine\\n4s6eight66616\\nr4eightjfldjbqhcpxnhmsmzsjm\\n3smktnsbtjm27cpkzvnjxone\\nhvtccdslkb83xmlpktzbfournlklrqfxone\\nseven5twosix9\\n6dcqcfvcrbs8pxphlrrlvqlmjqfrlfoursixseven\\nqntwofivezcpfknsvq51\\nkdvszdf9tzkbhmthn\\n79dcrnqfrnine\\ndh8hrfvk2nine1fivefourseven\\nrphmhjjnthree1threekbpbjhfk2threeggzjsz\\nfhfive3vcflkznnpfive\\nsp19onesixtwo5\\neight2ninejc4fivedgffn\\nm5ffive\\n436\\nkhpvrkl27twotwo\\n7fnbzfdsqeight5fourone5one\\neight92nine48fivecnhzhg9\\n83mkhqxtdt\\nfivezvmqbczkgclsxfour3eightthreethree\\nsixsixxlmh6\\nsixfive98\\nfourttlpxqponetwokn8tvkmrk66\\n1chfcvrmxbtwo4\\nsevensix1rlcnmbhs4\\neightftbfczpt8cgcnnck\\nfourfivessnxfmlzzfiveseven24mfbfx\\n49lqkxcxtjs2jdsbkmrvfninesix56\\nfknjdjqcnm66hrktq\\n1three24four6\\nrpxtwone83\\n5vnntgqnrpjh537ninebbkcs6\\nthree5mjmzhht57\\nsix4gfqcdbdhx96jvhktthree6\\nsevendbssnxndrdxlbvssrt8dtrgcxxsixonehhstdr\\n1sixfrzgtwo27pf\\n6onevnnptcxhzgonethreetfxlsvxfmbqc\\ngmqnpqsix7three3one5tpklvdfzkbqftkhrj\\nrrslpzr1\\n7ninedsvqtgntjdsqqmhgpjkqxkbpgmkxl\\nsevenxhpjppgxqqz9nxgctwo\\n7onefour\\none6dsntwo\\nghlgnsztmtsevenfour1bsctrtmp\\nonehtzmgbpkjcninefive7bmlnvfhsreightthree\\n2822\\n3threerbtmxdngpq12oneeightone\\nthreenine7z\\n9bvxxcsnzfive98\\ndjctwonefourlxshzxzmff313onesixkzxxhrrfour\\nsevensevengjbfbzmvlhlseven7bgdrreight\\nseven34p5zpmnn\\nr27threeqzx27gspmgncgth\\nthreeeighttwoone1jqghpbbl\\nonefqlnr9bmsvjsb2gcl4\\nthreeqxjjjtqx4four2mbxfive\\n5one9qnrzfdsixone\\nthree184eight\\n2hcnineseven1\\nonejgnvdndtwoqpdxbnzhkg91sevenrfgv\\nhmgseven1fivek866\\nseven4four1zpgc\\ndl8three5\\n7two2\\nhbglb9719\\n1zsgbsmmgprkmgssvnrbv7\\n5sixfourrfbbvmlrjfourl\\nthree63sixseven5\\nseven3eightthree318five\\n6brhdvjnz\\nonesevenfivefour5four413\\ntwo5689seventhree9\\n59nczhdqzdr\\n3vsxmbrfkljfxlkxm1x\\n6nm6k5three47\\n451sixxkcncfqr\\nxsixonevns4seven3vlxpfcttwo\\nkl6onehlrmxgbfourfour8\\nqvfclpxqfivethreeninesixl521\\n33hpkbonepsnfp8nine2\\nthree41fivetzzfvmlsfive5two\\n9two6vgvxhnfjone\\nsix68five8pbgrvl2six\\nsphsdpxfdtgvmmtwoone8eight\\nz726vlhseven\\nnine9ninesix6xmgbsgfmpgxkzgpzlxqnjsqhr\\nfourknflljrbrq63five\\n42onef6seven\\n39njjvzt7threetkccstz'"
      ]
     },
     "execution_count": 5,
     "metadata": {},
     "output_type": "execute_result"
    }
   ],
   "source": [
    "data_day1"
   ]
  },
  {
   "cell_type": "code",
   "execution_count": 16,
   "metadata": {},
   "outputs": [
    {
     "name": "stdout",
     "output_type": "stream",
     "text": [
      "a\n",
      "40\n"
     ]
    }
   ],
   "source": [
    "samples = \"\"\"1abc2\n",
    "pqr3stu8vwx\n",
    "a1b2c3d4e5f\n",
    "treb7uchet\"\"\"\n",
    "\n",
    "print(samples[1])\n",
    "print(len(samples))"
   ]
  },
  {
   "cell_type": "code",
   "execution_count": 17,
   "metadata": {},
   "outputs": [
    {
     "data": {
      "text/plain": [
       "['1abc2', 'pqr3stu8vwx', 'a1b2c3d4e5f', 'treb7uchet']"
      ]
     },
     "execution_count": 17,
     "metadata": {},
     "output_type": "execute_result"
    }
   ],
   "source": [
    "sample_list = samples.splitlines()\n",
    "sample_list"
   ]
  },
  {
   "cell_type": "code",
   "execution_count": 7,
   "metadata": {},
   "outputs": [
    {
     "data": {
      "text/plain": [
       "['3fiveone',\n",
       " 'eightnineseventwo1seven',\n",
       " '9h1xcrcggtwo38',\n",
       " 'nine4pvtl',\n",
       " 'seven7rsbqpgxtjzsgxssix',\n",
       " 'twofivethreepqgsvrszczrthree7',\n",
       " '44qcrkvr1two',\n",
       " 'zstrmphtxdvdpsnhpnq4threenbjznsb',\n",
       " 'bhgxhb41eight',\n",
       " 'qhstsbxsspsrfourmtvtnfhxlj699one',\n",
       " 'onekvhgkeighteight6two7ninelnfzbr',\n",
       " 'xsixz5six3gfqrzmpnjgskd6',\n",
       " 'qfrpksmzzvfkddtfh6838',\n",
       " 'mztttgnxdqt4',\n",
       " '8threesevenfourgbgteight5twonenjr',\n",
       " 'bpzkn2rbbjtdtlznl',\n",
       " 'glckqhjsbsznseight5dtnxnsix7',\n",
       " '2shd3ksrtmbs62vvdvhd',\n",
       " '9ninemdkkqjzjfour9mzspzjgmlhfq',\n",
       " '7twoqjbshcfxldnkc33one83',\n",
       " 'zstxvfdthreeseven7mdfpgzgfourdfshplvqflfprt1',\n",
       " '9mndn31msfprm1kpk',\n",
       " 'tmczplnmrsevenhmhprtllcktpr8eight9',\n",
       " '49nine29917five',\n",
       " '6qspssvm8',\n",
       " '7fourninefourcpfgpmxqjsjxmjfntwonine',\n",
       " '3nxfjmzhseven22one',\n",
       " 'tzgnljxhs9nine1lvqgsix9four',\n",
       " 'eightthree9eightfourninexl6gsdhljppfb',\n",
       " '9g',\n",
       " '2xlcvqrxs2eightznzdghnlvcfour8xbzk',\n",
       " 'xgmfqvdbsn7sixnineseven5',\n",
       " '65zsghsnfbseven9',\n",
       " '7skmb5',\n",
       " 'dbvjtf294threefournine',\n",
       " '21hbtcfzbjhsbxlhd',\n",
       " '27four',\n",
       " 'jlrthree9four8fourhqnsevenxqlmtsmzt',\n",
       " 'gjppzpvglfsvdmonercrsn4',\n",
       " '3zzxmhc',\n",
       " 'ldfgpzjmtcbj3jvsltltjv1eightzrdczhrzpcssrsrxbj',\n",
       " 'szblqqfgxhxkk3fourvqnpzf1onesixthree',\n",
       " 'vsb37three',\n",
       " '8kxdcgmpb2sevenjdvc3eight7',\n",
       " 'kgrsmfghvfivemhxnfiveqzzspmgmsvvghzd1fzcrkzdfsb',\n",
       " '5mphlhx5dmcxxcpcxsrdzdninethree',\n",
       " 'hmqdkgvk4twoeight',\n",
       " '2rjxxdcgtq5fivehzslfc',\n",
       " 'srqzfsvpfbnsvninetwothree6sixppsmfrtcrxxth',\n",
       " '4fourtwocdxnzkbznnrf',\n",
       " '4six419qpqfvfdpcrqvsjhgsfgrkpfmphseven',\n",
       " 'hxdcttl72seven',\n",
       " 'qkoneighttwoonesixeightfive2tzmrtpcthreefour',\n",
       " 'bnjqlftwobvsvjqptdp1two94twonej',\n",
       " 'eightninetwo278prrbvmcmf',\n",
       " 'seven79two',\n",
       " 'one9bx',\n",
       " 'cfpbdmjbcd27sixfour',\n",
       " '16snbjgjzqxzplxkkclpxzdx',\n",
       " '3scbbonenine5fivethreenine',\n",
       " '21sixsix68oneninefour',\n",
       " '6ninejmtrp4fivekxgdgj',\n",
       " '6mhlddxbshqbseventhree3two6six',\n",
       " '7four8smntchbmj71oneeight6',\n",
       " 'six25four196one2',\n",
       " '2foursixftdbhbtd6',\n",
       " 'fourfonekfsxdgvglvtrnrrjzmmkzxljm3',\n",
       " '3xckjzm',\n",
       " 'six9ssvkh1hdxcxmsptlxgdd8eight',\n",
       " '2eightfourone2ninezslhqhdlcp2qxv',\n",
       " '7oneclztx7xsxhrhhggfbhzdfgkdfvsqjskmdzj',\n",
       " 'fouronekkxqtrkptqz8',\n",
       " 'klccbbvbjsix3fivenine',\n",
       " 'rjrxdxdz33nine',\n",
       " 'sevenninen5',\n",
       " 'nineseveneightlcfrlftwoxlsmrjxnkk7zlzpbzm',\n",
       " 'rblvkfltqtbm18one7bvkzvvqrlbtf',\n",
       " 'gdcbszzf6sqldx',\n",
       " 'twoninethree23sixninebnzzjgqrlfktt',\n",
       " '62ninetwo',\n",
       " 'fourfour44z8',\n",
       " '6qxdvmpkq',\n",
       " 'sixfivesixthree3x',\n",
       " 'pcqfxpvb1threefive77',\n",
       " 'pncgzkppqqhmzmzjmzsevenxbsggc8',\n",
       " 'fivexxdvpl32rdsix2seven',\n",
       " '9blqpthpvfourfour69bprn',\n",
       " '8vxsdfbdjmldkvtkbr4three',\n",
       " 'threefive8',\n",
       " 'ck4p6',\n",
       " 'two9bpeightldmrnzbt',\n",
       " '4dpd',\n",
       " 'one7four6rcvtvfmzmnineq3',\n",
       " '4njtvkkstgmbjptcpdpzdfive',\n",
       " '2tsl1sixgfbbpdhxgrfpt',\n",
       " '947four5four3fivenine',\n",
       " 'fivelhtkgjhhzxfp3',\n",
       " '7one1three4sixmcrjlkzrj',\n",
       " '9fourxtzqsjjmxfivehttj15',\n",
       " '2lqnfrgvdninedrdj',\n",
       " '9rtxjbffmsbsqdrnjjdkb',\n",
       " 'twofour8',\n",
       " '1sixfourone',\n",
       " 'nine1xzpqkfhmzkbqtzh',\n",
       " 'bbh9fqrbt94onebdppqmtjlq',\n",
       " 'one8nnngz5',\n",
       " 'vchszvlzpljt1pdv6tqsk6four',\n",
       " 'sevensix9qmjkrglh',\n",
       " '5threenine7fkrtbcsevenjlxrkltp1',\n",
       " 'ggrsfivetwothree687two',\n",
       " 'jbtdsixthreexxvjbft5',\n",
       " '1four2eightseven8one3eightwogrr',\n",
       " 'six6vtltzh65',\n",
       " '7bbxlhgdbrh9sph44sbboneoneightxcn',\n",
       " 'lptqrf9twofzbmbbkkmt',\n",
       " '1zhxmsevenlnsxmdcpz5one',\n",
       " '63one',\n",
       " 'one3ninepcnphxdzvhvmcv846',\n",
       " 'nkn6eight21one',\n",
       " 's1cnkm',\n",
       " 'sixone3',\n",
       " 'sixbvvmreightonethreesixthree3five',\n",
       " 'bvbeight5sevensixchfrkjz',\n",
       " 'hkfkczqffjmndzseven7fiverklvhv9',\n",
       " 'rsfccvtl9seven',\n",
       " 'fourczfive5threefive5qj3',\n",
       " '9fivexskp3',\n",
       " 'tsrdgzcvftbvllhvcvzzthreetzzspvvjkrfgn9',\n",
       " 'bv8twotwo9nh',\n",
       " 'lbksl3cpgzlxjgnrpqslbsknglctwothree',\n",
       " 'nine9eightqhcdzfcp2',\n",
       " 'vckdtskc79threemblqcs3sixndlxfpq8',\n",
       " '1ggkrvbpsl9ssix6one8zh',\n",
       " '679one9nzsktvfseighteightwotjm',\n",
       " 'threefive7gfzptnxbvvlzlxbteightglseightworsq',\n",
       " '843trvvsxdkfspsixonethreeone',\n",
       " 'hsrqmrfvvzkczhphc8147xrrnzldnvr',\n",
       " 'm6six',\n",
       " 'oneccnxglxone29',\n",
       " '37jvhjvvlbv223mmnrthreesl',\n",
       " 'bpeight1',\n",
       " 'twocd8',\n",
       " '4sevensix8twotwohhmzr2',\n",
       " 'djpbjhrcfour5vbpkmsgnjckrkvt7',\n",
       " 'sixnfrlbv8sixrqgmt4qmftxnrmx5',\n",
       " 'sevenzvhhfourchckzrljhfivevjbxxh91six',\n",
       " 'eightckclzxbkqmkncvfdxfx84zeight1',\n",
       " '9stftdhkbs4',\n",
       " 'qrpbdqzsjfj3seven21zktlblk',\n",
       " 'seven87',\n",
       " 'lpms5',\n",
       " 'pdgpscn74s4onelh8',\n",
       " '7ljbdfour1tnfive81',\n",
       " '3rjlmtdvbr',\n",
       " 'lnvjkkgjc5',\n",
       " '7vxlqgxk5lkfdnsdh3',\n",
       " 'jlpgttbf35fourthreenine3cdfxbsdgslczvpjssm',\n",
       " 'eighttwoplpbcbkltwobvzccbhxndndmgxdf5',\n",
       " 'eightoneeight4',\n",
       " 'rkfx585',\n",
       " '9fourfour',\n",
       " '7pxcnjslqgp98sixpkhvqjhjqgeightone',\n",
       " 'fiveeight1fivehvqrnzxqlkrcmd',\n",
       " 'sevenvgzkmhst8ninegcgzxkxr4dpdjsmone8',\n",
       " 'fourgjfncfeightlptffqjhrltngg6',\n",
       " 'sevenqkjdtxptzbtwo8seven8',\n",
       " '757ltrfkjzeight57',\n",
       " '1twofoursix2xcqkf',\n",
       " '7ninetjngrkq7npldprkd',\n",
       " 'kqcgtnxvjv9',\n",
       " 'nsvqdsqzthreeqtzzhpd6xcggbnkxfone5',\n",
       " 'eightzkmbhtmpxxjlfqqvmvmbvgmbtpcbpz1',\n",
       " 'six1tpvs2sixnctjmdlc',\n",
       " '695one92sevenggrsc',\n",
       " 'stpr38onedftngldtx8lrsgfljrc',\n",
       " '1vbzxfive4fivetwotwo7',\n",
       " 'kdsjx2',\n",
       " 'dntkrpshcmqpgskcgsgvq9',\n",
       " '6pskhmkpfive1nmkcvonemdfpqdtvdl',\n",
       " 'fvfndcnine7khthreehljzshdbkblgm',\n",
       " 'eight49rcbnkmdthreegqlgvksvxksqf7',\n",
       " '22xsix',\n",
       " 'twosevenfive72bccn8rbzkfczgssqcg',\n",
       " 'two9hclkszjmxonetlgjfive1',\n",
       " 'dgpm6nhzkkqng',\n",
       " 'qrnkpxnn3lltxqxxjzxdkxhlkceight3eightthree',\n",
       " 'two5two4one61',\n",
       " '59ninesix',\n",
       " '3nineninesevenfour',\n",
       " '9cvsx1jzrxhrxshldtbbn9',\n",
       " '65four',\n",
       " 'three738',\n",
       " 'cvj2sevenxrsdqhp',\n",
       " 'p255hztrqj92sevenjlpzm',\n",
       " 'qjsdgdjrxdsjdfx7one',\n",
       " '6fivexm1qhxbgcvkvxb',\n",
       " 'fourxdnpqmjs3bqnzzphp1',\n",
       " '7nmrndvq7jnxnlsseven9twonelxb',\n",
       " 'four1sjnh5zkrrlxxj',\n",
       " 'hphshrj3cztfgm23two',\n",
       " '1zgvfourninefivetwocllkr',\n",
       " '1mgqmktstwo',\n",
       " '5ndrsix5tdmfcjbgvff',\n",
       " '4onefive9918eight',\n",
       " 'sevendbtcttvmcnljp3threethree1vmsggrpx',\n",
       " 'four5llnsvvcrcgd7sevenldffd',\n",
       " 'nine2five9fivemfour',\n",
       " '2cpbhssgzfsrhjtq2onefmpdqfivehxvbzpfmg',\n",
       " 'spglsevenrtbrkpnrq6',\n",
       " 'bbfqkt5nkfrzl99gxdlzzsb',\n",
       " '6csshxkzkshsxnnineeighttwoclslvdkjkc',\n",
       " 'five9pcb2nine4two4b',\n",
       " 'brzrd5threendzpvs7ldkjxmpqqr',\n",
       " 'one4vdtwo',\n",
       " 'fourseven5493dvldshvz',\n",
       " '1gkmnj',\n",
       " 'ninethree8',\n",
       " 'vshbcvtvvf4eightonesix',\n",
       " '7nine485eightrmxbrd',\n",
       " 'dctwofour3',\n",
       " '18ftwo',\n",
       " 'twotwo8rzdbgeightthree',\n",
       " 'sevenztlzzn38nine3jtnqjsnine6',\n",
       " '14qrvcspxmr4',\n",
       " '783sixxkkhrpqjrt5ninesjflktt1',\n",
       " '73five3',\n",
       " 'nrtwonetlmkldqrcjqrdn6gptzdclninethreenine',\n",
       " '8sixxqfl',\n",
       " 'sndlpvjr3',\n",
       " 'hx5zzlqk1571three',\n",
       " 'zvl1',\n",
       " '1twotnqcmfqrnr33rrhghsdqddpmbzd',\n",
       " 'nine1threevcninetwosix7m',\n",
       " 'six2onesix1xqjzczdrl3',\n",
       " '15jkhgkfzseven26',\n",
       " 'fntvfkhfzsfour7onesevenfour',\n",
       " 'sixone653',\n",
       " 'hnvftxjthnmfive1sevendfnpkpffgj',\n",
       " 'rdktwone9fourkklk9rsseven',\n",
       " '2fivefive4eight',\n",
       " 'vmfour34lpjzbr517nqkthkljv',\n",
       " 'hk9rqtwozr189',\n",
       " 'fivefive3',\n",
       " '5one6four9twohsnjkcp3',\n",
       " 'one77twoeighteightfive6twonek',\n",
       " 'vrxbxdgmtwo8tmglzjx',\n",
       " 'lp4ckhf',\n",
       " 'srh2',\n",
       " 'hsbkzggsfgeight5qhblzgsppxbdlpvhvcpgkndzkjtmpggpdx',\n",
       " 'sixzvhnnzffnsevenfourpkxnvc7one',\n",
       " 'fourvgv19g6xhphkdt',\n",
       " 'fgvl8nine42',\n",
       " 'four97five4lfcmzchtbmtvtvbr',\n",
       " '3onesevenqtwo21jjpgtwo',\n",
       " 'four44fournine1',\n",
       " 'twozhhvcxck6',\n",
       " 'skpvglmddmxlsrt3961nine',\n",
       " '8twoonetwofourtwokxrplnrvhmthree',\n",
       " '7ktxhsjdml6twofive',\n",
       " 'zfdtjbrfive669bscgkpeightseven',\n",
       " 'zmghddqkseight5two63three45',\n",
       " 'x4one',\n",
       " '5one1pcv9kkninenine7',\n",
       " 'b678two',\n",
       " 'x7',\n",
       " '97foursevenbhrxdpkv1',\n",
       " 'rjkfdbteight8fivejrspls231',\n",
       " 'six2skbfzvnlbvfour61seven8',\n",
       " '2mcqpccjfs5',\n",
       " '8tm',\n",
       " 'kr9pmdxkzjsg69fnkrrphlxqpsqjhzbznine',\n",
       " 'eightcqmdq8twozbbzfkxlhsmmv7',\n",
       " 'xvgflfourkhn3ninebx9fivedzsmsnf',\n",
       " 'crrsnkfmvtwosmjk7',\n",
       " '8four8796',\n",
       " 'nxqhdsczcgnvq5',\n",
       " '8five5two9three4',\n",
       " '6clffour2eight3zgzjnnmfsix',\n",
       " '1drp4six2rtszhttwotwo',\n",
       " 'zkmlfive7',\n",
       " '245eightnine9142',\n",
       " 'sixfive1',\n",
       " 'xvnbjvfivezhzfpvnsthree5bvvfive5cxjfkszprp',\n",
       " '3bbvmq',\n",
       " '13',\n",
       " '946five',\n",
       " '5twooneeightbhxfhpvjmlgtkccqgmqjnq',\n",
       " 'mlq7',\n",
       " '122fivetv4',\n",
       " 'fiveseven833pszfqhbt',\n",
       " '229oneninenine414',\n",
       " 'knmvqkkh1cjbbjnjzrtpxdjznn9six',\n",
       " '78nslms',\n",
       " 'vqrdsmtjtgfourninethreefivextgtwo5t',\n",
       " 'slnrndksnb95three8vrskzqzfthree6',\n",
       " '4twofhhqdghjssjkkcjlbjthree',\n",
       " '2xsnjsfngdqpzfmltkrsk1hvhktwo52',\n",
       " 'sevenxxmxmmngqmdx2lbthree',\n",
       " 'five823nine',\n",
       " 'dszvsjnzn7',\n",
       " 'tmvlsfive5prd',\n",
       " 'six3nine',\n",
       " 'onerzskmfthree3sctlkhcqrdzc97',\n",
       " 'eight34kfour2cdgnnkdff',\n",
       " 'dmone3three5hjndcbbonethree',\n",
       " '63five5513pdgczone',\n",
       " '6fivechs4vk',\n",
       " '3zlqsxzqdnpseight5',\n",
       " 'five6eight13eight',\n",
       " 'zjknbtptmdzfour3one2seventhree',\n",
       " 'sxshgxbcxs64dmtzplkqnfffkpz',\n",
       " 'rml4b65htpzcrlrbn39',\n",
       " '8tlpnvnrhjb57',\n",
       " 'fivetwo1five',\n",
       " '9nrrms247qcffourone',\n",
       " 'n6two2sevenvtfsxhsn',\n",
       " 'dxjtpsfjcssix2ninefour',\n",
       " 'qfldkljtbqc4five72fourjqbkbrh',\n",
       " '3nine1',\n",
       " 'jflrjzjzfour3four8threefouroneeight',\n",
       " 'fivefivesevenseveneight771lhpzhb',\n",
       " 'nrszb3eight1tbzmmps79',\n",
       " '8kkskdtwoeight78eightvbmv',\n",
       " '4bccrqxmrvd1three',\n",
       " 'nine93fourjhspbgnthree364',\n",
       " '11q',\n",
       " 'three7fourthreeftbxtmmm',\n",
       " 'mznine6six1',\n",
       " 'sevendzpcbqjfdk83twobgqfourmkzfzflnn1',\n",
       " 'twocvbtssm72',\n",
       " 'keightwo12',\n",
       " 'fourzxcbncddhthreeqsccqgsf4crzszqdd3nvvjsix',\n",
       " 'jmh3ggvdp',\n",
       " '12fiveninefoureight',\n",
       " '3tvlmfpkgrdthree2phmllhczeightj9qq',\n",
       " 'sevendndrnfpfzmgvfqnkp8pcjlttzfour7',\n",
       " 'dvtbsjreight1fkdlffive55bxzpsrnxtbfour',\n",
       " '7threeseven',\n",
       " 'qrhzdlsb4five',\n",
       " 'bvdvjfqvtrtqntrrnqfpf87njtjgxzkgbcnine',\n",
       " 'z927',\n",
       " 'one2eight',\n",
       " '7dpszhz3pfnrrtrkxjn',\n",
       " '8mfkvn',\n",
       " '258lkpqdc3five733',\n",
       " '1nine1threefour',\n",
       " 'nnbfzxdmm828cdgvfive',\n",
       " 'threetwothreethreetjzskgfive4',\n",
       " 'six893sevennine82',\n",
       " '3ss48phseventwo24',\n",
       " 'xgbpshxnkvcppnninepjcztcsevenqbnjcjftpxxkpqp66',\n",
       " '8mlkbpdpftwonine4',\n",
       " '5three6six1seven',\n",
       " '91onelrttnjrcqjtnrfivec',\n",
       " '322one',\n",
       " 'sevenmfpxvntvkpqvpbnnbpr5seven18sixeighteightwok',\n",
       " 'jnthkgsrone6vnkdvkjznjnboneoneseven7',\n",
       " 'five81472',\n",
       " '2onefive',\n",
       " 'nine9oneqfb7',\n",
       " 'tcf2two2145eightsix',\n",
       " 'vdjhlrksdhcone17three9qoneightr',\n",
       " 'fiveone82228bgrr',\n",
       " '5rfxlfbbjqninethreefour',\n",
       " 'eight641',\n",
       " '2pjmlgrrzvv',\n",
       " 'kpqsxmvhp4twohnlsone3eighttwones',\n",
       " '35sixd9eighthm89',\n",
       " '8four5onethreeqmdmttvchslfvnqrbftthree',\n",
       " 'fivemmbfjmq1jlvzsix1hgkbr7bxcsc',\n",
       " 'eightgmjxseven5fivefiveslbfsqrjrnbhqzgr',\n",
       " 'xr18oneqjgsnjfzcsix4',\n",
       " '9threefivekclcmrnsix654',\n",
       " 'onelnh6sqvzxeight9',\n",
       " '6vjjpmmxxknineone79',\n",
       " 'cdsfmz97twoninetqhhtsljsixseven',\n",
       " '8five6',\n",
       " 'ninepkp3',\n",
       " 'eightfour4fqtrlnzt',\n",
       " 'one4pttsvonexsj4',\n",
       " 'fczlpseven261',\n",
       " '9six6nine5nb4fouroneightv',\n",
       " '2snzvzxkbbpcvd',\n",
       " 'mvnqjkcmkhrvnsxt3hjkj2ninethreezzbbrsdone',\n",
       " 'zktwonemhqnxssxftwotsd1nhfmrxpffoureight7',\n",
       " 'qfhlmpxhxpthreennlk7chk7zzmlqxmtlk6',\n",
       " '7dxhzpmtwog9',\n",
       " 'kfkmpmzxhn6four87rcthd',\n",
       " 'bvplp656vtxxlqvmm6187',\n",
       " '811beight',\n",
       " '39586547',\n",
       " '18twok',\n",
       " 'pfxsfxsvkjrb9',\n",
       " '38z9trcxdbfivedmhtdrfive',\n",
       " '19bhddbmbkbg77',\n",
       " 'four522',\n",
       " '7vshvtblzonefbfcfgsfive2',\n",
       " 'mgtwoneonecthreefoureight37eightjqlxf',\n",
       " 'eightnine67gthszx9tzxczcpone1',\n",
       " 'fourfourthree2fivejrfgkb6seventwo',\n",
       " '4dnreightrv6ql3',\n",
       " 'csfgqxjdvm22jjnr9',\n",
       " '42szlhdvbdstllzldtcblgtfive7gnctbrmvmn6',\n",
       " 'ztwoneeightfourzzsck7seventwo',\n",
       " 'two78',\n",
       " '1hxqtdxjqflthreesrzzdbxmfnvk89three',\n",
       " 'rnprnnpbjq7fivetwoneqsh',\n",
       " 'hkpjjpbl3nineone6pcszznjft8d',\n",
       " 'gcbtzdtkhnbbjnftwo2four7nineseven',\n",
       " '3foureightonesixrfqrjlp',\n",
       " 'qvftcskmxdvnsrzqfourfivethreenine99slncxvjrcn',\n",
       " 'six5sshpxtr88',\n",
       " '7twofour',\n",
       " 'four143',\n",
       " 'vrxxmzfp8',\n",
       " 'four9tg8bfonesix59',\n",
       " 'three3onezsqdtkrceighthnstg6three',\n",
       " '7seventwonine',\n",
       " 'fivetwofour9nine1two',\n",
       " 'twozfdvkjzbtwo6xrjgmfgsxv',\n",
       " '1dqfcfjcbxxgxrksixnine4',\n",
       " 'rfpgseven5ninezdmbx5',\n",
       " '622',\n",
       " 'nine19fivetvm',\n",
       " 'eightthreelpj58qjlnhr',\n",
       " '9fourjtczvxfourfivebmzds415',\n",
       " '3fivejbgzdsx',\n",
       " 'fcqdbxgjf86twofour',\n",
       " 'nine6oneone',\n",
       " 'onefour1',\n",
       " 'onestc6eight3oneseventhreeone',\n",
       " 'seven2six',\n",
       " 'plbgd5nmppgfpbtphsxldrllpmnprm',\n",
       " '1three14eightbvnzx83',\n",
       " 'four95kkpjsttjf8one',\n",
       " 'mrkrgj5xtqvvzpmxn8nine',\n",
       " 'nineskg78nbrnonelsxfxkxlrc',\n",
       " 'qxnvkcx1one',\n",
       " '9ztbs2grvsixsqt94',\n",
       " 'sevenjhtd7',\n",
       " 'qjb78nine29',\n",
       " '3oneonegjtcppfrjs633',\n",
       " '3clhz',\n",
       " '1v398nine',\n",
       " 'mqlsevenlcnblh94',\n",
       " '5fiveseven',\n",
       " '73rbhnnsixsix7ntssps9v',\n",
       " 'svjsgvdsrspmsxzkczseven11nine4',\n",
       " 'onefjncqnsbsvqqm4478',\n",
       " 'mfzfzjhc1zgbtt',\n",
       " 'six1sevenseventwokvbtwogvpstm',\n",
       " 'one56nine',\n",
       " '8sxhbpfrxfsixl9lthreehr9',\n",
       " '44nine4threethreedbbp',\n",
       " 'seventhreedp66gnxvfnpzvdpqflnx2',\n",
       " 'twotwofour37cmfzvxqjp5seven',\n",
       " '1twonexlr',\n",
       " 'sixtwosix6seven7g',\n",
       " '63zscqhtonebtcjfdjqc',\n",
       " 'fiveklbblk4eighttwonefdf',\n",
       " 'seven7one',\n",
       " 'zz361tmxqdpmgseven6',\n",
       " '5onethree6cgkfkdcmnine2blhxzqxjqk5',\n",
       " 'threefour43dp',\n",
       " 'hcmjsszeightthree4tsnppskn78ggl',\n",
       " '7gzqsthtmvszmjvcgseven',\n",
       " 'onethree6sevenonetcxsseven',\n",
       " '3twobzbxc9onelxfkvgsnhteight',\n",
       " 'hnljcxrhxhjkhmhtffjrcqmeight7kcjmhjlvmgq4',\n",
       " '5nineseven6lkxzlbf',\n",
       " '49jxmvnql8crs',\n",
       " 'qgq6eighttwo5one',\n",
       " '1xclqfour8bgqsjknine',\n",
       " 'mrheightwogfglthreeeight6threeeighttwodfkjgp',\n",
       " '26three6nfrxkhqlq93seven',\n",
       " '3two4gjzmvvnrhdthreekrqhbfgssjghksix',\n",
       " 'sixone6sixfour7four',\n",
       " 'zbsvkkmhmcone677hmjsevenrqmng',\n",
       " 'mqzjpd5foursevengxmsbjhl',\n",
       " 'lmrpmthreelthree19tvbnbfqggnftwo',\n",
       " 'x3',\n",
       " '6zrhpdnxqpbfourltbvhlglvseven',\n",
       " '3onesixeightsevenqjjclpcndtzgnzcv9',\n",
       " 'fiveeightrm6',\n",
       " 'cfqonesevenszbvlkdpfourninetwo6five',\n",
       " '9lhlsbntzfourhvxfxgfjfivezcvqfshmldcmmhb',\n",
       " 'oneseven28pjmqkd',\n",
       " 'one5three284fhrbztwoseven',\n",
       " 'jmhj2rnf983bbzsmts2xf',\n",
       " 'one981eightr4',\n",
       " 'tmtwo2zrjdd9five',\n",
       " '4eightsixsix',\n",
       " 'q3rszpbkftqv',\n",
       " '6zndd7',\n",
       " '7sixflqjpcgrh4281',\n",
       " '89ninehbfklckdglmcgvm2',\n",
       " '712gsfgtdvthree',\n",
       " 'nine5knlzninerspkdklnthree',\n",
       " 'dhjmgthfiveeight79threefive',\n",
       " '87bn',\n",
       " '4eightkbppvkx9sevenzqcfrqlbxmk45',\n",
       " 'fourthreekvtvdrlgjrk2four7c',\n",
       " 'six6dlmmmvfkseventwoonesix',\n",
       " '47rsjqzcqsnffourqdggnkpgsqjgprhrx2',\n",
       " 'ptbtpthmkeightxtzjftbff6dqzdq7',\n",
       " '48sixcfngcjngjs3bszknmgzjthree',\n",
       " 'nmcdlgrrdrmrrbpfn1',\n",
       " '5q6crrhphbmqr8zdddmnseven8',\n",
       " 'fxlkdnq6',\n",
       " 'threeffvsrjdbtfk6trsgmkn',\n",
       " 'one3fourtwofcqsgcvvg',\n",
       " 'eight8onexvdtthree1pzfrllrjrtktzvnrp',\n",
       " 'hlnine3',\n",
       " '54three3zxbdtjrlzone',\n",
       " '5qjnpjvnzpfive2two71rphp',\n",
       " 'njseven6four',\n",
       " 'bgpkmfcbl72',\n",
       " '9vmjgvhvfvd1',\n",
       " 'ttbmt46two',\n",
       " 'mksvjgxsbdnlg8eighttwofourthreesfn',\n",
       " 'mtjm6twoseven46',\n",
       " 'fivefourcktdqsdlvpdq1eightwolc',\n",
       " '45twoneqs',\n",
       " 'sevenplrfqrhfivejqzrnv3',\n",
       " '9nine4threetwolk6sevenk',\n",
       " '5qxpfourfqtg',\n",
       " '34cpbblldjfqpltcntpzninetwo',\n",
       " '7eightfivehczsxqhglmtpsxk8hkksbzr',\n",
       " '69two9',\n",
       " '6seven33pggfive1',\n",
       " 'sevenhkhrj2',\n",
       " '4phnnpxthjn8',\n",
       " '4vnnfqdssrfive8seven8ninedfhl',\n",
       " 'frhf15three4vvlgthree',\n",
       " '4nine3',\n",
       " '57hlrhqmxxxbl',\n",
       " 'eightjhblpnjk786fivekrq',\n",
       " 'rj9twofour',\n",
       " 'lmszmtrhpthreezbdghgfour7sixtwofive',\n",
       " 'ninesixrlxxsskgjpqfdpzbthree5',\n",
       " 'qbddmnpgskf1tpfive34',\n",
       " 'fxmninejzl319twoeight4',\n",
       " 'two7ckzsmvqfcbfourthree25',\n",
       " 'xzhqltqmdfourqshqmlxpninecbrsclzftwotwo7three',\n",
       " 'one3zdppmxfroneighthb',\n",
       " 'eightsix8tmh7fivesixgbdttd3',\n",
       " 'pnhkxlcsh35',\n",
       " 'four45',\n",
       " '9sevenfivehxr4eightfour8',\n",
       " 'rmvmqbclzr5bmsxdzxgptlhczgsh42eight',\n",
       " 'bpbbvbjrptfourqpkdfqkjcrrpone1b3',\n",
       " '2six6',\n",
       " 'ninesixthreexshfvpb5',\n",
       " '3xhljmkxlr1clcqkmbdrmtxptgl',\n",
       " 'gfkhdhgv27ktc7foursevenseven2',\n",
       " 'eight1eight4',\n",
       " 'nine4vzdqjs8three9',\n",
       " '2lhmbfzonetwo9',\n",
       " 'nlhkm83cslc5three9sevennine',\n",
       " 'thhllmnnpxsbtjvnrnhq8rbvhzfrxzqqqhccqlzfggseven',\n",
       " 'four6six8kqmjzk8',\n",
       " 'gcrqzmbsh7seven6',\n",
       " '8five575four9six',\n",
       " 'four615',\n",
       " '41xzlprtjncrlzbcgvbmclsqrnbdone6',\n",
       " 'sdphx53c',\n",
       " 'threefblfr1seven3',\n",
       " 'xqh1one',\n",
       " 'qztslzlkheightsixkrpfourtwonine7one',\n",
       " 'nhqdsngrf8seven7dkbkfbdgdcjvnmdbzx9',\n",
       " '7qrmrsnhvfive4klcrkkbtwo',\n",
       " 'qpltxmjl3twosixrnvmlqvgrgmgninetwo',\n",
       " '43lbsbgjkng1one',\n",
       " 'lzjqmlxnk452zrglhpbpvtwo',\n",
       " 'fourlmcprk36mthree',\n",
       " 'cssthvvxrgpks48glbxk',\n",
       " 'qpmkfxk4fourbmnbfzhgn2three',\n",
       " 'zxkntbdnm3fivethreesixmkgztvrfpkjgxljbm5tt',\n",
       " '1vlhrcllfjtsgmqcvhcbcr98',\n",
       " 'nine6dlkvtfjfnq3hbxxm',\n",
       " 'eight42',\n",
       " 'mnrdpvdpklgkjnrz4',\n",
       " '1seven93ninesevenjqmeighteightwoz',\n",
       " 'seven8933five4seven',\n",
       " '9lldhvdqdzvdgptsmf1eight',\n",
       " '7fiveninezfourkrltflg',\n",
       " 'threeseven9',\n",
       " '7hjfzpltbjqbkx1two',\n",
       " '1twoqghxlrpmfourfivefonermntbg',\n",
       " '77eightjpgmmjst4',\n",
       " '9three8586nine6kb',\n",
       " 'three8ninetwothree2',\n",
       " '13xrhdzqsonesix43bph',\n",
       " 'foneight7',\n",
       " '29one',\n",
       " 'rth7cczktksv2',\n",
       " 'frrpbtjjcdfccdl1three',\n",
       " 'one5six4',\n",
       " 'ninehszc5svnhfrqm',\n",
       " 'threezfrmbgmjzg6',\n",
       " '9eight8one8fxlkdjhql',\n",
       " 'fivesmtkcsskrq7hxqbfkbqlninegnqddjrvxb',\n",
       " 'zfivehhknpdm7fngjpkbvone',\n",
       " '7five8',\n",
       " 'qkcxcpjzggzdxrfhlbsdbq17',\n",
       " '654mk',\n",
       " '2mqtgbmsnhq4zv48jzdchccdpzhs',\n",
       " 'rpkfj1hkrztwosix4bktdfk',\n",
       " 'seven9bxjmvrbb',\n",
       " '9threethreeeightppdkjzltclnq8sixnine',\n",
       " '7seven92',\n",
       " '567onefour8bsgjtrvsxkjlsc',\n",
       " '1dnbsjbdsrsscq3ninefour',\n",
       " 'vbpkpgssljgtxdfivethree6',\n",
       " 'eightsevenrkkjszmxvxtwo9jpvzldd6',\n",
       " 'one7523vgpvlkd',\n",
       " 'foureightonepeight4',\n",
       " '9fiveeightone',\n",
       " 'nine7one9',\n",
       " 'g328dbspnkseven',\n",
       " 'threeclqhr97five',\n",
       " '8onefourffhrmfkvctt',\n",
       " '2pzftpmvzfive',\n",
       " '433tvdzmcrdl',\n",
       " 'five42ckvlkgkjxh35sixd',\n",
       " 'nine6hs',\n",
       " '99cmtdzjtpxk15c2',\n",
       " 'tconexjkkh9',\n",
       " 'sevensix5oneeight',\n",
       " 'twotwo4ncmpzpvvdrsxkpnpfkjseven',\n",
       " 'nine42',\n",
       " '7sevenxntxxdnfckbkdh7seven6eight',\n",
       " '2foursevenzvdvhmzscd8gmlxxkqxd',\n",
       " '5sevenrzntpronehfpbdcmffdscfvsqjcvnbtqzpph',\n",
       " 'threefoursix6ninegdpmtlsix',\n",
       " 'lxcflpcvgctxhm1nine2',\n",
       " 'seven4one9mkkznineck8ptpc',\n",
       " 'seven4qtgqrcvfcfourzfdnx',\n",
       " 'md13xsdltxltqhninemjs',\n",
       " 'fourtxtscncgxvp3tqthreeseven',\n",
       " '8zzvkkmzhr7sevenfive776',\n",
       " '91sgceightvgzjdkkkthree',\n",
       " 'mfmvgtck5gbjstzvmfvtmr',\n",
       " 'nine57one84sixmqt',\n",
       " 'threekslcvdzlhhq6dqtkp9two4',\n",
       " '2slmvrvz38',\n",
       " 'foursix6qlqvzqbdzf2',\n",
       " 'mftwone3eighthhcsgfvrrj',\n",
       " '174bx2ninetwo8',\n",
       " 'ninetwo7mzlcjkmj',\n",
       " '37four2',\n",
       " 'cjmlmtwovrvsbmeightthreethree3lkq9',\n",
       " 'cscvfbgpjmonep8hmlnvrhvgsqrvcp',\n",
       " 'tmqkssbt79ninerfgh88',\n",
       " 'qdsxzxcseight7',\n",
       " 'eighteightnine8threecbcnfdtm41',\n",
       " 'ljpcfour1368nine',\n",
       " 'hftwoneninesixxxmdtcfd8lbvqdjg',\n",
       " 'kjktdqqbfourdvkjlprhkzgfivetcddgds1',\n",
       " 'qjeightwohvvdbqdnbknktv8six4four53',\n",
       " '6482cbb1',\n",
       " 'sixcczlxcthree35lqn51',\n",
       " 'rmnmjsthreehfxsjqlpkjxmdkg7three',\n",
       " '94lhpqldseven',\n",
       " 'fctfxjvnine7',\n",
       " 'sqnthxzkctfk98',\n",
       " '8xpknqzfkone',\n",
       " '9threeonetwo',\n",
       " '59d8twoshphfzlk',\n",
       " '26vtseven6bsfkgxmjqnine',\n",
       " '6nslcxpglfoursevenoneseven',\n",
       " 'sfvpkkvdkrfour31one8bqcrtwokhqp',\n",
       " '29vrcx5four9',\n",
       " '43two',\n",
       " 'eightsixpcmhlk7nhpxhmnrmponesevenpkfgxmrfnq',\n",
       " 'svfjcqdtnmcrtjdgseveneightninetwocnbrrbcgmreight9',\n",
       " '25cxhtcxvgkjlbcshxrfour7rcnkzmm',\n",
       " 'onethree14gvjpp',\n",
       " 'sevennxlncmqpkvlhbts1mhpfxzqf8',\n",
       " 'six6fivesix',\n",
       " '3fiveone8one6six57',\n",
       " 'tqgdrncxgpxpxz33',\n",
       " 'vrdxxljfeightseven63b',\n",
       " 'onetwo56nineone9kkb',\n",
       " 'nvpqcnrgqrrnzqsqrh4four',\n",
       " '67twobvxksevenztnhfpzkj9',\n",
       " 'rxddljfhxhlbqqrllk3six',\n",
       " '8twosevenone',\n",
       " 'onejxjpcnzljjdkbkmgvvrjrkgxgpqzdmpjzt4',\n",
       " 'ftbssc2fgtmsrjbr',\n",
       " 'djxnine1seven6sixone',\n",
       " 'grqxsevengkkgv83fhspzflvfbqjrm',\n",
       " 'ctsj5svksdtwostmft8twonine',\n",
       " 'two9thpzhrcvdl4',\n",
       " 'one2seven2plxkgkldxcpqconecfnppseightwovz',\n",
       " 'prleightwoggdqszvonefrqhh791vxxcfv',\n",
       " 'nine4seven6ninepbfoursix2',\n",
       " 'fourthree8threett488',\n",
       " 'six984three9r3xjnmvp',\n",
       " '261',\n",
       " 'twoonedrbbmvrm8fivejsix',\n",
       " '6onethreethreeeightxpcchknine',\n",
       " 'two55oneone3three7five',\n",
       " 'three3threekgpsix',\n",
       " 'rqvfvm9ninesixninesix7pfsxcrx',\n",
       " '4oneeightsixfive',\n",
       " '2fourthreeqjppmfjfxnzfdhlr',\n",
       " '9gctq3',\n",
       " 'vtzcng2jhrhgsqhq',\n",
       " 'eightmmxz6ninenleight',\n",
       " 'sbzllxonemjfffkhltgpshkmlrjb7oneone',\n",
       " '7fourfivefivefive3qjfdzclghxtc',\n",
       " 'fourfour9hmmlhhbxfour46twomzsgpkht',\n",
       " 'fiveqc45',\n",
       " '2bvseven54sixghpnhleights',\n",
       " '2qlhvfive6ffpbhftfp6',\n",
       " '4sixone1sevengqqqjbzr',\n",
       " 'spq17sevenhjfkkjzdf',\n",
       " 'eightphqcjzdfzpttgxbsix1fvmnvqczr',\n",
       " '9hxzczdhdl8oneqkqdlseveneighteight7',\n",
       " 'gllbrsevenfour4vfcgth',\n",
       " 'lxdqx59mvzfjcsjl9',\n",
       " 'three2eight3seven8rzsthree3',\n",
       " 'two8seven64',\n",
       " 'eight4dqqgeightseven',\n",
       " '71threejdzzk',\n",
       " '6fourgtcqnjkzjljksdqtbddpvxznvmprjtr6',\n",
       " '3fxkdgm',\n",
       " 'eighttwo3four6zg',\n",
       " '6rxlnjpgkkstkbzj',\n",
       " '74pcpzgndmtjgngonejfskscqfgm',\n",
       " 'dfssmbbxf873rhrbxnfzcp',\n",
       " 'bpqlnrtn5eightsixdschkk',\n",
       " 'lcrhcxvbrqhbz1one8',\n",
       " '46mrpfrtpnzdkshjgfxnrjbtntdnfive',\n",
       " 'tlgtzp86twofive',\n",
       " 'eightpmbdvzmdmpfivebphsv2pzxtcsrvtgnqnhvsbdf9twonehc',\n",
       " 'xqkbgbseven5',\n",
       " 'bheightwotwojl1one8',\n",
       " 'five7zsixgsmtvpxkkdrjtqtfjdjln',\n",
       " 'poneightbrndfh97kqtpgcstvnine6',\n",
       " 'svhgqmjgfoureight7twodsmcnjh6mmncjvltp',\n",
       " '79sixfourdlprglcm',\n",
       " 'five31',\n",
       " 'ncnmdbvvhnpqxzkktjzbsqxb42',\n",
       " 'twoone8mfxc',\n",
       " 'sixtwogxhhvcqpvzjmnltcdskdthree3nvdqeight',\n",
       " 'stwone15',\n",
       " 'threethreeghzvvdkd7',\n",
       " 'fivesevenr3nj',\n",
       " 'five6rmrccmczninelshone62',\n",
       " '8threet4nsrrkhg6bprcjtrpgclp',\n",
       " '3twoseven5',\n",
       " '26twopqtvsks5',\n",
       " 'ninemhgqvchgzgndlone938five',\n",
       " '5twoprnvvvfcbninexxfrh2',\n",
       " '6fdpxffv4',\n",
       " 'ninetwo5one6nqngsbqghbphngmone',\n",
       " 'kvqfvnxnine9552',\n",
       " '1lmht',\n",
       " '6jvngqeightqnp925',\n",
       " 'one53rqlbdzfive453xp',\n",
       " '32gntcntdtcv',\n",
       " '6qxdnhpvrcd5fivenpmqb',\n",
       " 'sevenninesevenfive9',\n",
       " '98svjcb1nine',\n",
       " '777ctrsnjzlfbxdzbvckr',\n",
       " '6three4onetwofour2five',\n",
       " '27hdhhbv68sevennineclpdtb',\n",
       " 'mknzmjqsp5xd7vdmfkbcfpgst2',\n",
       " '39twotwo',\n",
       " 'd78jjxpgrgmpbthreefivezlbvgphnsd',\n",
       " 'mcxgg3one7eightrzbdqzvfnvxn',\n",
       " 'ncmfng86sevendqscgbmlrjnkvgqmzzfff1',\n",
       " 'fivejlsdtbktwosix3',\n",
       " 'npnxr6five947',\n",
       " '2prjccpmn3hfnxpqht8nine5four',\n",
       " 'hfqrqpzfkqllthttmb4kcvfgtmp',\n",
       " '2fourfour',\n",
       " '6pj9fivenmhdlsx',\n",
       " '6csv7ninesevenlzgzninesixsthrlvsst',\n",
       " '7one83',\n",
       " '7mlrfqmjq47gfgpqgkgmpq72',\n",
       " 'six5pnslzjhthfour67kcvgsix',\n",
       " 'ninetwothree3',\n",
       " 'vb91two4two',\n",
       " 'eightdqmnsxlhhkz44two',\n",
       " 'trzzone6tcvrsznine7kdctnine',\n",
       " 'nineninefdfnxsixnrq2ninezrn',\n",
       " 'bl79eight59',\n",
       " 'jvjxkgjrbqdmnzk432sixmblqqmpn',\n",
       " 'two39hthree7',\n",
       " 'tdlcjpj5jhslsgfcx',\n",
       " '4two9jzdfzbbp',\n",
       " '9six7gtbk15vqzhhsbtxgmcx',\n",
       " '7vptsbpmq1',\n",
       " '59nsfbgxkvphnqvt',\n",
       " 'dmffndtn9',\n",
       " 'gzfnfsrdmrgtrbbsfive586xhrc',\n",
       " 'cxvgfjjvbtlvkpsgsknine4jjgntjjzgfqrmlfbx4six',\n",
       " '3tszbt1six3',\n",
       " 'ptjjhztq9eightseven',\n",
       " 'zglcldrtwo5fqhvmfivesevenxvkxl9',\n",
       " 'sevenonephscj3foursix2',\n",
       " 'ninelgclbhv37',\n",
       " 'fczvmgkzbm2jnzbgxhqmzoneqsrdj61',\n",
       " '1v8hpchzrvnzfbxninencjqdtqvgl',\n",
       " 'seven6threeone',\n",
       " 'five2sixrlfqftqzgks',\n",
       " '6three1xzgnkrzl2krjtxr',\n",
       " 'zgkjvnkczstwolctzzlsevenone6bglzxscglsnjm',\n",
       " '3kvxbzmpvrp',\n",
       " '75vfz2',\n",
       " 'vpnh25eight',\n",
       " 'cnsdklvrsix2one',\n",
       " 'kvlsjffgfltbkckcznmgrr8',\n",
       " '56foursix',\n",
       " 'pmhgkfonehjdslqbdc4eight9',\n",
       " 'twodmmsk57nx',\n",
       " 'lfjvsz6fivekfivefivesdplsixpx',\n",
       " 'twofivethreeqdgf3eightthree',\n",
       " '43sevenhnvsp',\n",
       " 'threeeightzh3threeqnncknpxgseven',\n",
       " '4vbnmhgrmtsblrhrtoneljbbnvxmtvbfzssgone',\n",
       " '5kvqfxmlkgcmlmgbfiveeight',\n",
       " '55ztqqfzvmdppdpq1three3sixtwo',\n",
       " '26bskpdjql',\n",
       " 'threehhgxmxdz1five94eight',\n",
       " '52fourzcbcfknlvlrnvhbnldq',\n",
       " 'three49four8gshbnmxlc8vphklsvfmhnfss',\n",
       " 'sevend95',\n",
       " 'fbkmpcone555oneightkc',\n",
       " '5qddnptqdoneonezczvnsl',\n",
       " '78ttssqjfournddr986',\n",
       " 'three4five',\n",
       " 'jb6',\n",
       " 'ht3hmrbxjsdvrsnlzvsqrj1rlcfggt5',\n",
       " '5bgxfoursevenrhtcqf2dpkvfmsmh2',\n",
       " '8rdsljbdggzseven4chgfppzmzkj',\n",
       " 'hfcjpnrzsixfivefour6',\n",
       " 'seveneight5hldmqltxonecbtknbeight6',\n",
       " '6ninetztvlzdmgj2xzbtk',\n",
       " 'three988twodndrqvqpq',\n",
       " '4threejkrpgtlhgg6five',\n",
       " '4kgxgmprssixseven',\n",
       " 'spfpone16',\n",
       " 'xcpqvrthreemrggrvghqcgbqtkknvvk5',\n",
       " '2three84bxtwo',\n",
       " 'gjmv82mgnqqgnzcgcd',\n",
       " '3nine4seven',\n",
       " '9twosnine',\n",
       " 'nxfmfour8bgcgdkvb',\n",
       " '8three6one',\n",
       " 'bxvxksbbdn3knpdc6stfbxffjggfglc',\n",
       " 'sevenmfpxjgnpb743five6',\n",
       " 'seven7sm',\n",
       " '8qxbbcxjvppeightwot',\n",
       " 'fivetwotwo1seven8r',\n",
       " '96eightnrbeight84',\n",
       " 'gljg4fiveone',\n",
       " '8nine6sevenmllmmchzjxb',\n",
       " '3twosixdcgl',\n",
       " '6xsfmfjjnz6vstfvhndhlklrsc73kljcseven',\n",
       " 'threefour1',\n",
       " 'tqtlxckrrch5jone9',\n",
       " '9qjsntszxb',\n",
       " 'ninetwopqfnsrxrfstwod8one',\n",
       " '6eight85',\n",
       " 'four63vgjflnctzssfstjx113',\n",
       " '1vhshftmrbseventhreetwoeight',\n",
       " '51bntvpdmxfznine5hbt',\n",
       " 'fivebpcntvnklxxseven9',\n",
       " '2xq',\n",
       " 'vjcbktqbxd55zhdxrhjqnr',\n",
       " 'bxqndkhjg1sixvjct4',\n",
       " '2two1three',\n",
       " 'kkconeight5eight9',\n",
       " 'gz6two',\n",
       " 'dmctnkrmone7fourdfqcfone3',\n",
       " '9oneightcb',\n",
       " 'fiveqzjsvjqlsd99kpsixone',\n",
       " '8fivehfphnvtdf',\n",
       " '3six8jrrlnpj',\n",
       " '1six53hpmgsfqfourxmfmdqds',\n",
       " 'eight7ljkrn3cntjv',\n",
       " '7rkscrcchttwoggxktqdptwodpkcsgpbseven',\n",
       " 'eightthreeseven9threebdlskshg',\n",
       " '18xpklsg',\n",
       " '2sevenjlscgksv',\n",
       " 'rmr3784sevenbgqfhklhl',\n",
       " 'dbmtkvthree9mmqzfvmhpthreefivethreetwo',\n",
       " '566sixeightone6fiveone',\n",
       " 'sixtwokf9',\n",
       " 'lzgsrdmnl2xpps',\n",
       " 'zlbmfmxtvhvng1eight',\n",
       " '1nine76ninegpc',\n",
       " '8onesevenxqjqrxflrb1',\n",
       " '2dhthree6sixthree',\n",
       " '4eight16',\n",
       " '2threenvllhnkqthreelhfnbp1gmkcgdf',\n",
       " '5threeeightthreeeight',\n",
       " 'qjltlxkptr7threezplpxvqgrrn5',\n",
       " 'ftkjg8onedxjcnmrsmf6foursctg5',\n",
       " 'threenks5',\n",
       " 'btseven2dlqjqpsnhxqmvqnjx',\n",
       " '43four',\n",
       " '64thknbt3three',\n",
       " 'jgghlcsxl4gtwo9gfdcgxfour',\n",
       " 'mvdkntknjf1stttccdntnrxhhdzgnrzznineseven',\n",
       " '2nine4nine',\n",
       " '4s6eight66616',\n",
       " 'r4eightjfldjbqhcpxnhmsmzsjm',\n",
       " '3smktnsbtjm27cpkzvnjxone',\n",
       " 'hvtccdslkb83xmlpktzbfournlklrqfxone',\n",
       " 'seven5twosix9',\n",
       " '6dcqcfvcrbs8pxphlrrlvqlmjqfrlfoursixseven',\n",
       " 'qntwofivezcpfknsvq51',\n",
       " 'kdvszdf9tzkbhmthn',\n",
       " '79dcrnqfrnine',\n",
       " 'dh8hrfvk2nine1fivefourseven',\n",
       " 'rphmhjjnthree1threekbpbjhfk2threeggzjsz',\n",
       " 'fhfive3vcflkznnpfive',\n",
       " 'sp19onesixtwo5',\n",
       " 'eight2ninejc4fivedgffn',\n",
       " 'm5ffive',\n",
       " '436',\n",
       " 'khpvrkl27twotwo',\n",
       " '7fnbzfdsqeight5fourone5one',\n",
       " 'eight92nine48fivecnhzhg9',\n",
       " '83mkhqxtdt',\n",
       " 'fivezvmqbczkgclsxfour3eightthreethree',\n",
       " 'sixsixxlmh6',\n",
       " 'sixfive98',\n",
       " 'fourttlpxqponetwokn8tvkmrk66',\n",
       " '1chfcvrmxbtwo4',\n",
       " 'sevensix1rlcnmbhs4',\n",
       " 'eightftbfczpt8cgcnnck',\n",
       " 'fourfivessnxfmlzzfiveseven24mfbfx',\n",
       " '49lqkxcxtjs2jdsbkmrvfninesix56',\n",
       " 'fknjdjqcnm66hrktq',\n",
       " '1three24four6',\n",
       " 'rpxtwone83',\n",
       " '5vnntgqnrpjh537ninebbkcs6',\n",
       " 'three5mjmzhht57',\n",
       " 'six4gfqcdbdhx96jvhktthree6',\n",
       " 'sevendbssnxndrdxlbvssrt8dtrgcxxsixonehhstdr',\n",
       " '1sixfrzgtwo27pf',\n",
       " '6onevnnptcxhzgonethreetfxlsvxfmbqc',\n",
       " 'gmqnpqsix7three3one5tpklvdfzkbqftkhrj',\n",
       " 'rrslpzr1',\n",
       " '7ninedsvqtgntjdsqqmhgpjkqxkbpgmkxl',\n",
       " 'sevenxhpjppgxqqz9nxgctwo',\n",
       " '7onefour',\n",
       " 'one6dsntwo',\n",
       " 'ghlgnsztmtsevenfour1bsctrtmp',\n",
       " 'onehtzmgbpkjcninefive7bmlnvfhsreightthree',\n",
       " '2822',\n",
       " '3threerbtmxdngpq12oneeightone',\n",
       " 'threenine7z',\n",
       " '9bvxxcsnzfive98',\n",
       " 'djctwonefourlxshzxzmff313onesixkzxxhrrfour',\n",
       " 'sevensevengjbfbzmvlhlseven7bgdrreight',\n",
       " 'seven34p5zpmnn',\n",
       " 'r27threeqzx27gspmgncgth',\n",
       " 'threeeighttwoone1jqghpbbl',\n",
       " 'onefqlnr9bmsvjsb2gcl4',\n",
       " 'threeqxjjjtqx4four2mbxfive',\n",
       " '5one9qnrzfdsixone',\n",
       " 'three184eight',\n",
       " '2hcnineseven1',\n",
       " 'onejgnvdndtwoqpdxbnzhkg91sevenrfgv',\n",
       " 'hmgseven1fivek866',\n",
       " 'seven4four1zpgc',\n",
       " 'dl8three5',\n",
       " '7two2',\n",
       " 'hbglb9719',\n",
       " '1zsgbsmmgprkmgssvnrbv7',\n",
       " '5sixfourrfbbvmlrjfourl',\n",
       " 'three63sixseven5',\n",
       " 'seven3eightthree318five',\n",
       " '6brhdvjnz',\n",
       " 'onesevenfivefour5four413',\n",
       " 'two5689seventhree9',\n",
       " '59nczhdqzdr',\n",
       " '3vsxmbrfkljfxlkxm1x',\n",
       " '6nm6k5three47',\n",
       " '451sixxkcncfqr',\n",
       " 'xsixonevns4seven3vlxpfcttwo',\n",
       " 'kl6onehlrmxgbfourfour8',\n",
       " 'qvfclpxqfivethreeninesixl521',\n",
       " '33hpkbonepsnfp8nine2',\n",
       " 'three41fivetzzfvmlsfive5two',\n",
       " '9two6vgvxhnfjone',\n",
       " 'six68five8pbgrvl2six',\n",
       " 'sphsdpxfdtgvmmtwoone8eight',\n",
       " 'z726vlhseven',\n",
       " 'nine9ninesix6xmgbsgfmpgxkzgpzlxqnjsqhr',\n",
       " 'fourknflljrbrq63five',\n",
       " '42onef6seven',\n",
       " '39njjvzt7threetkccstz']"
      ]
     },
     "execution_count": 7,
     "metadata": {},
     "output_type": "execute_result"
    }
   ],
   "source": [
    "data = data_day1.splitlines()\n",
    "data"
   ]
  },
  {
   "cell_type": "code",
   "execution_count": 3,
   "metadata": {},
   "outputs": [
    {
     "data": {
      "text/plain": [
       "'pqr3stu8vwx'"
      ]
     },
     "execution_count": 3,
     "metadata": {},
     "output_type": "execute_result"
    }
   ],
   "source": [
    "sample_list[1]"
   ]
  },
  {
   "cell_type": "code",
   "execution_count": 4,
   "metadata": {},
   "outputs": [
    {
     "data": {
      "text/plain": [
       "True"
      ]
     },
     "execution_count": 4,
     "metadata": {},
     "output_type": "execute_result"
    }
   ],
   "source": [
    "sample_list[0].startswith(\"1\")\n"
   ]
  },
  {
   "cell_type": "code",
   "execution_count": 5,
   "metadata": {},
   "outputs": [
    {
     "data": {
      "text/plain": [
       "'1abc2'"
      ]
     },
     "execution_count": 5,
     "metadata": {},
     "output_type": "execute_result"
    }
   ],
   "source": [
    "first_value = sample_list[0]\n",
    "first_value\n"
   ]
  },
  {
   "cell_type": "markdown",
   "metadata": {},
   "source": [
    "Iterables can be used in \"for\" loops. Interables are stuff that can be interpreted, you know what that means (I hope) "
   ]
  },
  {
   "cell_type": "code",
   "execution_count": 6,
   "metadata": {},
   "outputs": [
    {
     "name": "stdout",
     "output_type": "stream",
     "text": [
      "True 1\n",
      "False a\n",
      "False b\n",
      "False c\n",
      "True 2\n"
     ]
    }
   ],
   "source": [
    "#for woop in first_value:\n",
    "#    print(woop)\n",
    "\n",
    "for woop in first_value:\n",
    "    print(woop.isdigit(),woop)"
   ]
  },
  {
   "cell_type": "code",
   "execution_count": 7,
   "metadata": {},
   "outputs": [
    {
     "data": {
      "text/plain": [
       "'2'"
      ]
     },
     "execution_count": 7,
     "metadata": {},
     "output_type": "execute_result"
    }
   ],
   "source": [
    "woop\n",
    "# without the digit part: the last one it saw was recorded as the value of woop."
   ]
  },
  {
   "cell_type": "code",
   "execution_count": 8,
   "metadata": {},
   "outputs": [
    {
     "data": {
      "text/plain": [
       "False"
      ]
     },
     "execution_count": 8,
     "metadata": {},
     "output_type": "execute_result"
    }
   ],
   "source": [
    "first_value.isdigit()"
   ]
  },
  {
   "cell_type": "code",
   "execution_count": 9,
   "metadata": {},
   "outputs": [
    {
     "data": {
      "text/plain": [
       "<list_reverseiterator at 0x10b97a4a0>"
      ]
     },
     "execution_count": 9,
     "metadata": {},
     "output_type": "execute_result"
    }
   ],
   "source": [
    "# sample_list.reverse()\n",
    "# sample_list\n",
    "# ALWAYS CLICK THIS ONE TWICE^!!!!!! LEST YOU DOOM US ALL\n",
    "sample_list.__reversed__()"
   ]
  },
  {
   "cell_type": "code",
   "execution_count": 10,
   "metadata": {},
   "outputs": [
    {
     "data": {
      "text/plain": [
       "([1, 'Işık', 3, ['a', 'b', 'c']], 'a', ['a', 'b', 'c'])"
      ]
     },
     "execution_count": 10,
     "metadata": {},
     "output_type": "execute_result"
    }
   ],
   "source": [
    "L = [1,2,3]\n",
    "\n",
    "L[1] = 'Işık'\n",
    "\n",
    "L.append(['a', 'b', 'c'])\n",
    "\n",
    "L, L[3][0], L[-1]\n"
   ]
  },
  {
   "cell_type": "markdown",
   "metadata": {},
   "source": [
    "append is used to add something to the very end. there is no [-0], so first from last will just be [-1]"
   ]
  },
  {
   "cell_type": "code",
   "execution_count": 11,
   "metadata": {},
   "outputs": [
    {
     "data": {
      "text/plain": [
       "(['1', '2'], '1', '2')"
      ]
     },
     "execution_count": 11,
     "metadata": {},
     "output_type": "execute_result"
    }
   ],
   "source": [
    "mahlist = []\n",
    "for chr in first_value:\n",
    "    # ()kullandığında isdigiti üzerinde kullaniyor, parantez yoksa sadece var mı diye bakıyor\n",
    "    if chr.isdigit():\n",
    "        mahlist.append(chr)\n",
    "first_digit = mahlist[0]\n",
    "last_digit = mahlist [-1]\n",
    "mahlist, first_digit, last_digit\n"
   ]
  },
  {
   "cell_type": "code",
   "execution_count": 8,
   "metadata": {},
   "outputs": [],
   "source": [
    "def first_and_last_digit_of_line(line):\n",
    "    mahlist = []\n",
    "    for woop in line:\n",
    "        if woop.isdigit():\n",
    "            mahlist.append(woop)\n",
    "    first_digit = mahlist[0]\n",
    "    last_digit = mahlist [-1]\n",
    "    return first_digit, last_digit"
   ]
  },
  {
   "cell_type": "markdown",
   "metadata": {},
   "source": [
    "def means a function. \n",
    "funno facto: the argument can be another function (in the place of \"line\")"
   ]
  },
  {
   "cell_type": "code",
   "execution_count": 13,
   "metadata": {},
   "outputs": [
    {
     "data": {
      "text/plain": [
       "('1', '2')"
      ]
     },
     "execution_count": 13,
     "metadata": {},
     "output_type": "execute_result"
    }
   ],
   "source": [
    "first_and_last_digit_of_line(first_value)"
   ]
  },
  {
   "cell_type": "markdown",
   "metadata": {},
   "source": [
    "# STUFF WE HAVE NAMED\n",
    "|name| definition|\n",
    "|-------------|--------------------------------------|\n",
    "sample_list|    all sample words you need to get the numbers out of\n",
    "- first_value:    the first word.\n",
    "- mahlist:        list containing the first and last digits in first_value\n",
    "- first_digit:    the first one\n",
    "- last_digit:     the last one (both related to first_value)\n",
    "- first_and_last_digit_of_line:   when run with a value (word), will seperately give out its first and last digits. "
   ]
  },
  {
   "cell_type": "code",
   "execution_count": 14,
   "metadata": {},
   "outputs": [
    {
     "data": {
      "text/plain": [
       "['1abc2', 'pqr3stu8vwx', 'a1b2c3d4e5f', 'treb7uchet']"
      ]
     },
     "execution_count": 14,
     "metadata": {},
     "output_type": "execute_result"
    }
   ],
   "source": [
    "sample_list"
   ]
  },
  {
   "cell_type": "code",
   "execution_count": 15,
   "metadata": {},
   "outputs": [
    {
     "name": "stdout",
     "output_type": "stream",
     "text": [
      "1abc2\n",
      "pqr3stu8vwx\n",
      "a1b2c3d4e5f\n",
      "treb7uchet\n"
     ]
    }
   ],
   "source": [
    "for poow in sample_list:\n",
    "    print(poow)"
   ]
  },
  {
   "cell_type": "code",
   "execution_count": 16,
   "metadata": {},
   "outputs": [
    {
     "name": "stdout",
     "output_type": "stream",
     "text": [
      "1abc2\n",
      "pqr3stu8vwx\n",
      "a1b2c3d4e5f\n",
      "treb7uchet\n"
     ]
    }
   ],
   "source": [
    "for doop in range(4):\n",
    "    print(sample_list[doop])\n"
   ]
  },
  {
   "cell_type": "code",
   "execution_count": 17,
   "metadata": {},
   "outputs": [
    {
     "data": {
      "text/plain": [
       "['a1b2c3d4e5f', 'treb7uchet']"
      ]
     },
     "execution_count": 17,
     "metadata": {},
     "output_type": "execute_result"
    }
   ],
   "source": [
    "sample_list[2:]"
   ]
  },
  {
   "cell_type": "code",
   "execution_count": 18,
   "metadata": {},
   "outputs": [
    {
     "data": {
      "text/plain": [
       "('7', '7')"
      ]
     },
     "execution_count": 18,
     "metadata": {},
     "output_type": "execute_result"
    }
   ],
   "source": [
    "first_and_last_digit_of_line(poow)"
   ]
  },
  {
   "cell_type": "code",
   "execution_count": 19,
   "metadata": {},
   "outputs": [
    {
     "name": "stdout",
     "output_type": "stream",
     "text": [
      "[('1', '2'), ('3', '8'), ('1', '5'), ('7', '7')]\n"
     ]
    }
   ],
   "source": [
    "list_of_digits = []\n",
    "\n",
    "for row in sample_list:\n",
    "    # print(first_and_last_digit_of_line(row))\n",
    "    list_of_digits.append(first_and_last_digit_of_line(row))\n",
    "print(list_of_digits)\n",
    "\n",
    "    "
   ]
  },
  {
   "cell_type": "code",
   "execution_count": 20,
   "metadata": {},
   "outputs": [
    {
     "data": {
      "text/plain": [
       "[('1', '2'), ('3', '8'), ('1', '5'), ('7', '7')]"
      ]
     },
     "execution_count": 20,
     "metadata": {},
     "output_type": "execute_result"
    }
   ],
   "source": [
    "list_of_digits"
   ]
  },
  {
   "cell_type": "code",
   "execution_count": 9,
   "metadata": {},
   "outputs": [],
   "source": [
    "def find_all_the_digits(line):\n",
    "    list_of_digits = []\n",
    "    for row in line:\n",
    "        list_of_digits.append(first_and_last_digit_of_line(row))\n",
    "    return list_of_digits"
   ]
  },
  {
   "cell_type": "code",
   "execution_count": 27,
   "metadata": {},
   "outputs": [
    {
     "name": "stdout",
     "output_type": "stream",
     "text": [
      "[('1', '2'), ('3', '8'), ('1', '5'), ('7', '7')]\n",
      "('1', '2')\n"
     ]
    }
   ],
   "source": [
    "all_the_digits = find_all_the_digits(sample_list)\n",
    "print(all_the_digits)\n",
    "print(all_the_digits[0])"
   ]
  },
  {
   "cell_type": "code",
   "execution_count": 23,
   "metadata": {},
   "outputs": [
    {
     "data": {
      "text/plain": [
       "142"
      ]
     },
     "execution_count": 23,
     "metadata": {},
     "output_type": "execute_result"
    }
   ],
   "source": [
    "sum_of_integers = 0\n",
    "for pair in all_the_digits:\n",
    "    first_digit = int(pair[0])\n",
    "    last_digit = int(pair[1])\n",
    "    # print(int(first_digit),int(last_digit))\n",
    "    sum_of_integers += first_digit*10+last_digit\n",
    "\n",
    "sum_of_integers\n",
    "\n"
   ]
  },
  {
   "cell_type": "markdown",
   "metadata": {},
   "source": [
    "# EXAMPLE ABOVE ^ ANSWER BELOW"
   ]
  },
  {
   "cell_type": "code",
   "execution_count": 10,
   "metadata": {},
   "outputs": [
    {
     "name": "stdout",
     "output_type": "stream",
     "text": [
      "[('3', '3'), ('1', '1'), ('9', '8'), ('4', '4'), ('7', '7'), ('7', '7'), ('4', '1'), ('4', '4'), ('4', '1'), ('6', '9'), ('6', '7'), ('5', '6'), ('6', '8'), ('4', '4'), ('8', '5'), ('2', '2'), ('5', '7'), ('2', '2'), ('9', '9'), ('7', '3'), ('7', '1'), ('9', '1'), ('8', '9'), ('4', '7'), ('6', '8'), ('7', '7'), ('3', '2'), ('9', '9'), ('9', '6'), ('9', '9'), ('2', '8'), ('7', '5'), ('6', '9'), ('7', '5'), ('2', '4'), ('2', '1'), ('2', '7'), ('9', '8'), ('4', '4'), ('3', '3'), ('3', '1'), ('3', '1'), ('3', '7'), ('8', '7'), ('1', '1'), ('5', '5'), ('4', '4'), ('2', '5'), ('6', '6'), ('4', '4'), ('4', '9'), ('7', '2'), ('2', '2'), ('1', '4'), ('2', '8'), ('7', '9'), ('9', '9'), ('2', '7'), ('1', '6'), ('3', '5'), ('2', '8'), ('6', '4'), ('6', '6'), ('7', '6'), ('2', '2'), ('2', '6'), ('3', '3'), ('3', '3'), ('9', '8'), ('2', '2'), ('7', '7'), ('8', '8'), ('3', '3'), ('3', '3'), ('5', '5'), ('7', '7'), ('1', '7'), ('6', '6'), ('2', '3'), ('6', '2'), ('4', '8'), ('6', '6'), ('3', '3'), ('1', '7'), ('8', '8'), ('3', '2'), ('9', '9'), ('8', '4'), ('8', '8'), ('4', '6'), ('9', '9'), ('4', '4'), ('7', '3'), ('4', '4'), ('2', '1'), ('9', '3'), ('3', '3'), ('7', '4'), ('9', '5'), ('2', '2'), ('9', '9'), ('8', '8'), ('1', '1'), ('1', '1'), ('9', '4'), ('8', '5'), ('1', '6'), ('9', '9'), ('5', '1'), ('6', '7'), ('5', '5'), ('1', '3'), ('6', '5'), ('7', '4'), ('9', '9'), ('1', '5'), ('6', '3'), ('3', '6'), ('6', '1'), ('1', '1'), ('3', '3'), ('3', '3'), ('5', '5'), ('7', '9'), ('9', '9'), ('5', '3'), ('9', '3'), ('9', '9'), ('8', '9'), ('3', '3'), ('9', '2'), ('7', '8'), ('1', '8'), ('6', '9'), ('7', '7'), ('8', '3'), ('8', '7'), ('6', '6'), ('2', '9'), ('3', '3'), ('1', '1'), ('8', '8'), ('4', '2'), ('5', '7'), ('8', '5'), ('9', '1'), ('8', '1'), ('9', '4'), ('3', '1'), ('8', '7'), ('5', '5'), ('7', '8'), ('7', '1'), ('3', '3'), ('5', '5'), ('7', '3'), ('3', '3'), ('5', '5'), ('4', '4'), ('5', '5'), ('9', '9'), ('7', '8'), ('1', '1'), ('8', '8'), ('6', '6'), ('8', '8'), ('7', '7'), ('1', '2'), ('7', '7'), ('9', '9'), ('6', '5'), ('1', '1'), ('1', '2'), ('6', '2'), ('3', '8'), ('1', '7'), ('2', '2'), ('9', '9'), ('6', '1'), ('7', '7'), ('4', '7'), ('2', '2'), ('7', '8'), ('9', '1'), ('6', '6'), ('3', '3'), ('5', '1'), ('5', '9'), ('3', '3'), ('9', '9'), ('6', '5'), ('7', '8'), ('2', '2'), ('2', '2'), ('7', '7'), ('6', '1'), ('3', '1'), ('7', '9'), ('1', '5'), ('3', '3'), ('1', '1'), ('1', '1'), ('5', '5'), ('4', '8'), ('3', '1'), ('5', '7'), ('2', '9'), ('2', '2'), ('6', '6'), ('5', '9'), ('6', '6'), ('9', '4'), ('5', '7'), ('4', '4'), ('5', '3'), ('1', '1'), ('8', '8'), ('4', '4'), ('7', '5'), ('3', '3'), ('1', '8'), ('8', '8'), ('3', '6'), ('1', '4'), ('7', '1'), ('7', '3'), ('6', '6'), ('8', '8'), ('3', '3'), ('5', '1'), ('1', '1'), ('1', '3'), ('1', '7'), ('2', '3'), ('1', '6'), ('7', '7'), ('6', '3'), ('1', '1'), ('9', '9'), ('2', '4'), ('3', '7'), ('9', '9'), ('3', '3'), ('5', '3'), ('7', '6'), ('8', '8'), ('4', '4'), ('2', '2'), ('5', '5'), ('7', '7'), ('1', '6'), ('8', '2'), ('9', '4'), ('3', '1'), ('4', '1'), ('6', '6'), ('3', '1'), ('8', '8'), ('7', '6'), ('6', '9'), ('5', '5'), ('4', '4'), ('5', '7'), ('6', '8'), ('7', '7'), ('9', '1'), ('8', '1'), ('2', '8'), ('2', '5'), ('8', '8'), ('9', '9'), ('8', '7'), ('3', '9'), ('7', '7'), ('8', '6'), ('5', '5'), ('8', '4'), ('6', '3'), ('1', '2'), ('7', '7'), ('2', '2'), ('1', '1'), ('5', '5'), ('3', '3'), ('1', '3'), ('9', '6'), ('5', '5'), ('7', '7'), ('1', '4'), ('8', '3'), ('2', '4'), ('1', '9'), ('7', '8'), ('5', '5'), ('9', '6'), ('4', '4'), ('2', '2'), ('2', '2'), ('8', '3'), ('7', '7'), ('5', '5'), ('3', '3'), ('3', '7'), ('3', '2'), ('3', '5'), ('6', '3'), ('6', '4'), ('3', '5'), ('6', '3'), ('3', '2'), ('6', '4'), ('4', '9'), ('8', '7'), ('1', '1'), ('9', '7'), ('6', '2'), ('2', '2'), ('4', '2'), ('3', '1'), ('3', '8'), ('7', '1'), ('3', '9'), ('8', '8'), ('4', '1'), ('9', '4'), ('1', '1'), ('7', '7'), ('6', '1'), ('8', '1'), ('7', '2'), ('1', '2'), ('4', '3'), ('3', '3'), ('1', '2'), ('3', '9'), ('8', '7'), ('1', '5'), ('7', '7'), ('4', '4'), ('8', '7'), ('9', '7'), ('2', '2'), ('7', '3'), ('8', '8'), ('2', '3'), ('1', '1'), ('8', '8'), ('4', '4'), ('8', '2'), ('3', '4'), ('6', '6'), ('8', '4'), ('5', '1'), ('9', '1'), ('3', '2'), ('5', '8'), ('6', '7'), ('8', '2'), ('2', '2'), ('9', '7'), ('2', '5'), ('1', '9'), ('8', '8'), ('5', '5'), ('6', '1'), ('2', '2'), ('4', '3'), ('3', '9'), ('8', '5'), ('1', '7'), ('5', '5'), ('1', '4'), ('9', '4'), ('6', '9'), ('6', '9'), ('9', '7'), ('8', '6'), ('3', '3'), ('4', '4'), ('4', '4'), ('2', '1'), ('9', '4'), ('2', '2'), ('3', '2'), ('1', '7'), ('7', '6'), ('7', '9'), ('6', '7'), ('6', '7'), ('8', '1'), ('3', '7'), ('1', '8'), ('9', '9'), ('3', '9'), ('1', '7'), ('5', '2'), ('7', '2'), ('3', '7'), ('6', '1'), ('2', '6'), ('4', '3'), ('2', '9'), ('4', '6'), ('7', '7'), ('7', '8'), ('1', '9'), ('7', '7'), ('3', '8'), ('2', '7'), ('3', '3'), ('9', '9'), ('5', '8'), ('7', '7'), ('1', '3'), ('8', '8'), ('9', '9'), ('3', '6'), ('7', '7'), ('9', '1'), ('6', '6'), ('1', '4'), ('5', '5'), ('6', '2'), ('1', '9'), ('5', '8'), ('9', '5'), ('3', '3'), ('8', '6'), ('6', '6'), ('1', '1'), ('6', '3'), ('2', '2'), ('5', '5'), ('1', '3'), ('9', '8'), ('5', '8'), ('7', '8'), ('1', '1'), ('9', '4'), ('7', '7'), ('7', '9'), ('3', '3'), ('3', '3'), ('1', '8'), ('9', '4'), ('5', '5'), ('7', '9'), ('1', '4'), ('4', '8'), ('1', '1'), ('1', '1'), ('5', '6'), ('8', '9'), ('4', '4'), ('6', '2'), ('3', '5'), ('1', '1'), ('6', '7'), ('6', '3'), ('4', '4'), ('7', '7'), ('3', '6'), ('5', '5'), ('4', '3'), ('4', '8'), ('7', '7'), ('6', '6'), ('3', '9'), ('7', '4'), ('5', '6'), ('4', '8'), ('6', '5'), ('1', '8'), ('6', '6'), ('2', '3'), ('3', '4'), ('6', '7'), ('6', '7'), ('5', '5'), ('1', '9'), ('3', '3'), ('6', '6'), ('3', '9'), ('6', '6'), ('6', '6'), ('9', '9'), ('2', '8'), ('5', '4'), ('2', '2'), ('9', '4'), ('2', '9'), ('4', '4'), ('3', '3'), ('6', '7'), ('7', '1'), ('8', '2'), ('7', '2'), ('5', '5'), ('7', '9'), ('8', '7'), ('4', '5'), ('2', '7'), ('6', '6'), ('4', '2'), ('6', '7'), ('4', '3'), ('1', '1'), ('5', '8'), ('6', '6'), ('6', '6'), ('3', '3'), ('8', '1'), ('3', '3'), ('5', '3'), ('5', '1'), ('6', '6'), ('7', '2'), ('9', '1'), ('4', '6'), ('8', '8'), ('6', '6'), ('1', '1'), ('4', '5'), ('3', '3'), ('9', '6'), ('5', '5'), ('3', '4'), ('7', '8'), ('6', '9'), ('6', '1'), ('2', '2'), ('4', '8'), ('4', '8'), ('1', '4'), ('4', '3'), ('5', '7'), ('7', '6'), ('9', '9'), ('7', '7'), ('5', '5'), ('1', '4'), ('3', '4'), ('7', '5'), ('7', '7'), ('3', '3'), ('8', '3'), ('3', '5'), ('4', '5'), ('9', '8'), ('5', '2'), ('1', '3'), ('2', '6'), ('5', '5'), ('3', '1'), ('2', '2'), ('1', '4'), ('4', '9'), ('2', '9'), ('8', '9'), ('8', '8'), ('6', '8'), ('7', '6'), ('8', '9'), ('6', '5'), ('4', '6'), ('5', '3'), ('1', '3'), ('1', '1'), ('7', '7'), ('8', '9'), ('7', '4'), ('3', '3'), ('4', '1'), ('4', '2'), ('3', '6'), ('4', '8'), ('4', '2'), ('3', '5'), ('1', '8'), ('6', '3'), ('4', '2'), ('4', '4'), ('1', '3'), ('8', '4'), ('9', '1'), ('7', '7'), ('9', '9'), ('7', '1'), ('1', '1'), ('7', '4'), ('9', '6'), ('8', '2'), ('1', '3'), ('7', '7'), ('2', '9'), ('7', '2'), ('1', '1'), ('5', '4'), ('5', '5'), ('6', '6'), ('9', '8'), ('7', '7'), ('7', '7'), ('7', '8'), ('1', '7'), ('6', '4'), ('2', '8'), ('1', '4'), ('9', '9'), ('9', '8'), ('7', '2'), ('5', '8'), ('1', '3'), ('6', '6'), ('9', '6'), ('7', '3'), ('4', '4'), ('9', '9'), ('7', '9'), ('3', '8'), ('9', '7'), ('8', '8'), ('2', '2'), ('4', '3'), ('4', '5'), ('6', '6'), ('9', '2'), ('9', '9'), ('5', '5'), ('4', '4'), ('4', '2'), ('7', '6'), ('2', '8'), ('5', '5'), ('6', '6'), ('1', '2'), ('4', '8'), ('4', '4'), ('1', '3'), ('3', '3'), ('8', '6'), ('9', '1'), ('5', '5'), ('5', '4'), ('6', '4'), ('2', '8'), ('6', '2'), ('3', '3'), ('1', '8'), ('7', '7'), ('3', '2'), ('3', '9'), ('8', '8'), ('7', '8'), ('7', '7'), ('8', '1'), ('1', '8'), ('8', '8'), ('1', '1'), ('8', '3'), ('6', '1'), ('3', '1'), ('7', '7'), ('9', '4'), ('7', '7'), ('9', '8'), ('8', '8'), ('9', '9'), ('5', '8'), ('2', '6'), ('6', '6'), ('3', '8'), ('2', '9'), ('4', '3'), ('7', '7'), ('9', '9'), ('2', '7'), ('1', '4'), ('1', '8'), ('6', '6'), ('3', '7'), ('3', '3'), ('6', '3'), ('5', '9'), ('4', '4'), ('6', '9'), ('3', '3'), ('8', '8'), ('4', '4'), ('2', '2'), ('1', '6'), ('8', '3'), ('5', '8'), ('9', '4'), ('2', '2'), ('7', '1'), ('4', '2'), ('8', '8'), ('9', '3'), ('2', '1'), ('8', '8'), ('6', '6'), ('5', '7'), ('3', '3'), ('9', '7'), ('4', '4'), ('2', '2'), ('9', '3'), ('2', '2'), ('6', '6'), ('7', '7'), ('7', '3'), ('9', '6'), ('4', '5'), ('2', '4'), ('2', '6'), ('4', '1'), ('1', '7'), ('1', '1'), ('9', '7'), ('4', '4'), ('5', '9'), ('2', '3'), ('8', '4'), ('4', '4'), ('7', '1'), ('6', '6'), ('3', '3'), ('3', '6'), ('6', '6'), ('7', '4'), ('8', '3'), ('5', '5'), ('1', '8'), ('4', '6'), ('8', '6'), ('2', '9'), ('5', '5'), ('1', '8'), ('7', '7'), ('9', '6'), ('7', '6'), ('7', '9'), ('3', '1'), ('4', '2'), ('8', '8'), ('3', '3'), ('1', '5'), ('7', '7'), ('3', '3'), ('6', '2'), ('8', '6'), ('3', '5'), ('2', '5'), ('9', '8'), ('5', '2'), ('6', '4'), ('5', '6'), ('9', '2'), ('1', '1'), ('6', '5'), ('5', '3'), ('3', '2'), ('6', '5'), ('9', '9'), ('9', '1'), ('7', '7'), ('6', '2'), ('2', '8'), ('5', '2'), ('3', '9'), ('7', '8'), ('3', '7'), ('8', '1'), ('3', '3'), ('6', '7'), ('2', '5'), ('4', '4'), ('2', '2'), ('6', '9'), ('6', '7'), ('7', '3'), ('7', '2'), ('5', '7'), ('3', '3'), ('9', '4'), ('4', '4'), ('6', '7'), ('2', '2'), ('7', '9'), ('4', '2'), ('3', '7'), ('5', '5'), ('4', '9'), ('9', '5'), ('7', '1'), ('5', '9'), ('9', '9'), ('5', '6'), ('4', '4'), ('3', '3'), ('9', '9'), ('5', '9'), ('3', '2'), ('3', '7'), ('2', '1'), ('1', '8'), ('6', '6'), ('2', '2'), ('6', '2'), ('6', '6'), ('3', '3'), ('7', '2'), ('2', '5'), ('2', '2'), ('8', '8'), ('5', '6'), ('4', '9'), ('5', '7'), ('6', '6'), ('3', '3'), ('4', '3'), ('3', '3'), ('4', '4'), ('5', '5'), ('5', '3'), ('2', '6'), ('1', '4'), ('5', '2'), ('4', '8'), ('9', '5'), ('5', '5'), ('5', '5'), ('7', '6'), ('4', '4'), ('6', '6'), ('3', '5'), ('5', '2'), ('8', '4'), ('6', '6'), ('5', '6'), ('6', '2'), ('9', '8'), ('4', '6'), ('4', '4'), ('1', '6'), ('5', '5'), ('2', '4'), ('8', '2'), ('3', '4'), ('9', '9'), ('8', '8'), ('8', '6'), ('3', '6'), ('7', '6'), ('7', '7'), ('8', '8'), ('1', '8'), ('9', '4'), ('4', '4'), ('8', '6'), ('3', '3'), ('6', '3'), ('1', '1'), ('5', '9'), ('9', '9'), ('8', '8'), ('6', '5'), ('6', '3'), ('1', '1'), ('5', '5'), ('9', '9'), ('2', '2'), ('5', '5'), ('1', '4'), ('2', '1'), ('5', '9'), ('6', '6'), ('7', '3'), ('9', '9'), ('9', '9'), ('8', '8'), ('3', '8'), ('1', '3'), ('7', '3'), ('7', '7'), ('9', '9'), ('1', '8'), ('2', '2'), ('3', '4'), ('9', '9'), ('5', '6'), ('9', '9'), ('2', '2'), ('1', '1'), ('1', '6'), ('8', '1'), ('2', '6'), ('4', '6'), ('2', '1'), ('5', '5'), ('7', '5'), ('8', '5'), ('5', '5'), ('2', '2'), ('4', '3'), ('6', '3'), ('4', '9'), ('1', '1'), ('2', '4'), ('4', '6'), ('4', '4'), ('3', '7'), ('8', '3'), ('5', '9'), ('6', '8'), ('5', '1'), ('9', '9'), ('7', '9'), ('8', '1'), ('1', '2'), ('3', '3'), ('1', '5'), ('2', '4'), ('5', '5'), ('4', '6'), ('2', '7'), ('7', '5'), ('9', '9'), ('8', '3'), ('3', '3'), ('6', '6'), ('9', '8'), ('8', '6'), ('1', '4'), ('1', '4'), ('8', '8'), ('2', '4'), ('4', '6'), ('6', '6'), ('1', '6'), ('8', '3'), ('5', '6'), ('5', '7'), ('4', '6'), ('8', '8'), ('1', '7'), ('6', '6'), ('7', '5'), ('1', '1'), ('7', '7'), ('9', '9'), ('7', '7'), ('6', '6'), ('1', '1'), ('7', '7'), ('2', '2'), ('3', '2'), ('7', '7'), ('9', '8'), ('3', '3'), ('7', '7'), ('3', '5'), ('2', '7'), ('1', '1'), ('9', '4'), ('4', '2'), ('5', '9'), ('1', '4'), ('2', '1'), ('9', '1'), ('1', '6'), ('4', '1'), ('8', '5'), ('7', '2'), ('9', '9'), ('1', '7'), ('5', '5'), ('6', '5'), ('3', '8'), ('6', '6'), ('5', '3'), ('5', '9'), ('5', '9'), ('3', '1'), ('6', '7'), ('4', '1'), ('4', '3'), ('6', '8'), ('5', '1'), ('3', '2'), ('4', '5'), ('9', '6'), ('6', '2'), ('8', '8'), ('7', '6'), ('9', '6'), ('6', '3'), ('4', '6'), ('3', '7')]\n",
      "('3', '3')\n"
     ]
    }
   ],
   "source": [
    "all_the_digits = find_all_the_digits(data)\n",
    "print(all_the_digits)\n",
    "print(all_the_digits[0])"
   ]
  },
  {
   "cell_type": "code",
   "execution_count": 11,
   "metadata": {},
   "outputs": [
    {
     "data": {
      "text/plain": [
       "54968"
      ]
     },
     "execution_count": 11,
     "metadata": {},
     "output_type": "execute_result"
    }
   ],
   "source": [
    "sum_of_integers = 0\n",
    "for pair in all_the_digits:\n",
    "    first_digit = int(pair[0])\n",
    "    last_digit = int(pair[1])\n",
    "    # print(int(first_digit),int(last_digit))\n",
    "    sum_of_integers += first_digit*10+last_digit\n",
    "\n",
    "sum_of_integers\n",
    "\n"
   ]
  },
  {
   "cell_type": "code",
   "execution_count": 21,
   "metadata": {},
   "outputs": [
    {
     "data": {
      "text/plain": [
       "54968"
      ]
     },
     "execution_count": 21,
     "metadata": {},
     "output_type": "execute_result"
    }
   ],
   "source": [
    "def solution(dataset):\n",
    "    all_digits = find_all_the_digits(dataset)\n",
    "    sum_of_integers = 0\n",
    "    for pair in all_digits:\n",
    "        first_digit = int(pair[0])\n",
    "        last_digit = int(pair[1])\n",
    "        sum_of_integers += first_digit*10+last_digit\n",
    "    return sum_of_integers\n",
    "    \n",
    "solution(data)"
   ]
  },
  {
   "cell_type": "code",
   "execution_count": 22,
   "metadata": {},
   "outputs": [
    {
     "data": {
      "text/plain": [
       "142"
      ]
     },
     "execution_count": 22,
     "metadata": {},
     "output_type": "execute_result"
    }
   ],
   "source": [
    "solution(sample_list)"
   ]
  },
  {
   "cell_type": "code",
   "execution_count": null,
   "metadata": {},
   "outputs": [],
   "source": []
  }
 ],
 "metadata": {
  "kernelspec": {
   "display_name": "base",
   "language": "python",
   "name": "python3"
  },
  "language_info": {
   "codemirror_mode": {
    "name": "ipython",
    "version": 3
   },
   "file_extension": ".py",
   "mimetype": "text/x-python",
   "name": "python",
   "nbconvert_exporter": "python",
   "pygments_lexer": "ipython3",
   "version": "3.12.8"
  }
 },
 "nbformat": 4,
 "nbformat_minor": 2
}
